{
 "cells": [
  {
   "cell_type": "code",
   "execution_count": 3,
   "metadata": {},
   "outputs": [],
   "source": [
    "import numpy as np\n",
    "import pandas as pd\n",
    "import matplotlib.pyplot as plt\n",
    "import seaborn as sns; \n",
    "sns.set_style(\"darkgrid\")\n",
    "from scipy.cluster.hierarchy import dendrogram, linkage\n",
    "from sklearn.datasets import make_blobs, make_classification\n",
    "from sklearn.cluster import KMeans, AgglomerativeClustering\n",
    "from sklearn.metrics import silhouette_score\n",
    "from sklearn.preprocessing import StandardScaler, OneHotEncoder"
   ]
  },
  {
   "cell_type": "markdown",
   "metadata": {},
   "source": [
    "# Creating Dataset"
   ]
  },
  {
   "cell_type": "code",
   "execution_count": 4,
   "metadata": {},
   "outputs": [
    {
     "data": {
      "text/html": [
       "<div>\n",
       "<style scoped>\n",
       "    .dataframe tbody tr th:only-of-type {\n",
       "        vertical-align: middle;\n",
       "    }\n",
       "\n",
       "    .dataframe tbody tr th {\n",
       "        vertical-align: top;\n",
       "    }\n",
       "\n",
       "    .dataframe thead th {\n",
       "        text-align: right;\n",
       "    }\n",
       "</style>\n",
       "<table border=\"1\" class=\"dataframe\">\n",
       "  <thead>\n",
       "    <tr style=\"text-align: right;\">\n",
       "      <th></th>\n",
       "      <th>permalink</th>\n",
       "      <th>name</th>\n",
       "      <th>homepage_url</th>\n",
       "      <th>category_list</th>\n",
       "      <th>funding_total_usd</th>\n",
       "      <th>status</th>\n",
       "      <th>country_code</th>\n",
       "      <th>state_code</th>\n",
       "      <th>region</th>\n",
       "      <th>city</th>\n",
       "      <th>funding_rounds</th>\n",
       "      <th>founded_at</th>\n",
       "      <th>first_funding_at</th>\n",
       "      <th>last_funding_at</th>\n",
       "    </tr>\n",
       "  </thead>\n",
       "  <tbody>\n",
       "    <tr>\n",
       "      <th>0</th>\n",
       "      <td>/organization/-fame</td>\n",
       "      <td>#fame</td>\n",
       "      <td>http://livfame.com</td>\n",
       "      <td>Media</td>\n",
       "      <td>10000000</td>\n",
       "      <td>operating</td>\n",
       "      <td>IND</td>\n",
       "      <td>16</td>\n",
       "      <td>Mumbai</td>\n",
       "      <td>Mumbai</td>\n",
       "      <td>1</td>\n",
       "      <td>NaN</td>\n",
       "      <td>2015-01-05</td>\n",
       "      <td>2015-01-05</td>\n",
       "    </tr>\n",
       "    <tr>\n",
       "      <th>1</th>\n",
       "      <td>/organization/-qounter</td>\n",
       "      <td>:Qounter</td>\n",
       "      <td>http://www.qounter.com</td>\n",
       "      <td>Application Platforms|Real Time|Social Network...</td>\n",
       "      <td>700000</td>\n",
       "      <td>operating</td>\n",
       "      <td>USA</td>\n",
       "      <td>DE</td>\n",
       "      <td>DE - Other</td>\n",
       "      <td>Delaware City</td>\n",
       "      <td>2</td>\n",
       "      <td>2014-09-04</td>\n",
       "      <td>2014-03-01</td>\n",
       "      <td>2014-10-14</td>\n",
       "    </tr>\n",
       "    <tr>\n",
       "      <th>2</th>\n",
       "      <td>/organization/-the-one-of-them-inc-</td>\n",
       "      <td>(THE) ONE of THEM,Inc.</td>\n",
       "      <td>http://oneofthem.jp</td>\n",
       "      <td>Apps|Games|Mobile</td>\n",
       "      <td>3406878</td>\n",
       "      <td>operating</td>\n",
       "      <td>NaN</td>\n",
       "      <td>NaN</td>\n",
       "      <td>NaN</td>\n",
       "      <td>NaN</td>\n",
       "      <td>1</td>\n",
       "      <td>NaN</td>\n",
       "      <td>2014-01-30</td>\n",
       "      <td>2014-01-30</td>\n",
       "    </tr>\n",
       "    <tr>\n",
       "      <th>3</th>\n",
       "      <td>/organization/0-6-com</td>\n",
       "      <td>0-6.com</td>\n",
       "      <td>http://www.0-6.com</td>\n",
       "      <td>Curated Web</td>\n",
       "      <td>2000000</td>\n",
       "      <td>operating</td>\n",
       "      <td>CHN</td>\n",
       "      <td>22</td>\n",
       "      <td>Beijing</td>\n",
       "      <td>Beijing</td>\n",
       "      <td>1</td>\n",
       "      <td>2007-01-01</td>\n",
       "      <td>2008-03-19</td>\n",
       "      <td>2008-03-19</td>\n",
       "    </tr>\n",
       "    <tr>\n",
       "      <th>4</th>\n",
       "      <td>/organization/004-technologies</td>\n",
       "      <td>004 Technologies</td>\n",
       "      <td>http://004gmbh.de/en/004-interact</td>\n",
       "      <td>Software</td>\n",
       "      <td>-</td>\n",
       "      <td>operating</td>\n",
       "      <td>USA</td>\n",
       "      <td>IL</td>\n",
       "      <td>Springfield, Illinois</td>\n",
       "      <td>Champaign</td>\n",
       "      <td>1</td>\n",
       "      <td>2010-01-01</td>\n",
       "      <td>2014-07-24</td>\n",
       "      <td>2014-07-24</td>\n",
       "    </tr>\n",
       "  </tbody>\n",
       "</table>\n",
       "</div>"
      ],
      "text/plain": [
       "                             permalink                    name  \\\n",
       "0                  /organization/-fame                   #fame   \n",
       "1               /organization/-qounter                :Qounter   \n",
       "2  /organization/-the-one-of-them-inc-  (THE) ONE of THEM,Inc.   \n",
       "3                /organization/0-6-com                 0-6.com   \n",
       "4       /organization/004-technologies        004 Technologies   \n",
       "\n",
       "                        homepage_url  \\\n",
       "0                 http://livfame.com   \n",
       "1             http://www.qounter.com   \n",
       "2                http://oneofthem.jp   \n",
       "3                 http://www.0-6.com   \n",
       "4  http://004gmbh.de/en/004-interact   \n",
       "\n",
       "                                       category_list funding_total_usd  \\\n",
       "0                                              Media          10000000   \n",
       "1  Application Platforms|Real Time|Social Network...            700000   \n",
       "2                                  Apps|Games|Mobile           3406878   \n",
       "3                                        Curated Web           2000000   \n",
       "4                                           Software                 -   \n",
       "\n",
       "      status country_code state_code                 region           city  \\\n",
       "0  operating          IND         16                 Mumbai         Mumbai   \n",
       "1  operating          USA         DE             DE - Other  Delaware City   \n",
       "2  operating          NaN        NaN                    NaN            NaN   \n",
       "3  operating          CHN         22                Beijing        Beijing   \n",
       "4  operating          USA         IL  Springfield, Illinois      Champaign   \n",
       "\n",
       "   funding_rounds  founded_at first_funding_at last_funding_at  \n",
       "0               1         NaN       2015-01-05      2015-01-05  \n",
       "1               2  2014-09-04       2014-03-01      2014-10-14  \n",
       "2               1         NaN       2014-01-30      2014-01-30  \n",
       "3               1  2007-01-01       2008-03-19      2008-03-19  \n",
       "4               1  2010-01-01       2014-07-24      2014-07-24  "
      ]
     },
     "execution_count": 4,
     "metadata": {},
     "output_type": "execute_result"
    }
   ],
   "source": [
    "companies = pd.read_csv(\"../Dataset/companies.csv\")\n",
    "companies.head()"
   ]
  },
  {
   "cell_type": "code",
   "execution_count": 5,
   "metadata": {},
   "outputs": [
    {
     "data": {
      "text/html": [
       "<div>\n",
       "<style scoped>\n",
       "    .dataframe tbody tr th:only-of-type {\n",
       "        vertical-align: middle;\n",
       "    }\n",
       "\n",
       "    .dataframe tbody tr th {\n",
       "        vertical-align: top;\n",
       "    }\n",
       "\n",
       "    .dataframe thead th {\n",
       "        text-align: right;\n",
       "    }\n",
       "</style>\n",
       "<table border=\"1\" class=\"dataframe\">\n",
       "  <thead>\n",
       "    <tr style=\"text-align: right;\">\n",
       "      <th></th>\n",
       "      <th>CrunchBase Ranking</th>\n",
       "      <th>Company Name/Organisation Name</th>\n",
       "      <th>Acquired by</th>\n",
       "      <th>Location</th>\n",
       "      <th>Number of Employees</th>\n",
       "      <th>Industry</th>\n",
       "      <th>IPO Status</th>\n",
       "      <th>Founded Date</th>\n",
       "      <th>Headquarters Regions</th>\n",
       "      <th>Founders</th>\n",
       "      <th>...</th>\n",
       "      <th>Number of Diversity Investments</th>\n",
       "      <th>Number of Exits</th>\n",
       "      <th>Related Hubs</th>\n",
       "      <th>Investor Type</th>\n",
       "      <th>Stock Symbol</th>\n",
       "      <th>IPO Date</th>\n",
       "      <th>Number of Sub Organisations</th>\n",
       "      <th>Funding Rounds</th>\n",
       "      <th>Funds Raised (for VC)</th>\n",
       "      <th>Number of Lead Investments</th>\n",
       "    </tr>\n",
       "  </thead>\n",
       "  <tbody>\n",
       "    <tr>\n",
       "      <th>0</th>\n",
       "      <td>NaN</td>\n",
       "      <td>#fame</td>\n",
       "      <td>NaN</td>\n",
       "      <td>IND</td>\n",
       "      <td>NaN</td>\n",
       "      <td>Media</td>\n",
       "      <td>NaN</td>\n",
       "      <td>NaN</td>\n",
       "      <td>NaN</td>\n",
       "      <td>NaN</td>\n",
       "      <td>...</td>\n",
       "      <td>NaN</td>\n",
       "      <td>NaN</td>\n",
       "      <td>NaN</td>\n",
       "      <td>NaN</td>\n",
       "      <td>NaN</td>\n",
       "      <td>NaN</td>\n",
       "      <td>NaN</td>\n",
       "      <td>1.0</td>\n",
       "      <td>NaN</td>\n",
       "      <td>NaN</td>\n",
       "    </tr>\n",
       "    <tr>\n",
       "      <th>1</th>\n",
       "      <td>NaN</td>\n",
       "      <td>:Qounter</td>\n",
       "      <td>NaN</td>\n",
       "      <td>USA</td>\n",
       "      <td>NaN</td>\n",
       "      <td>Application Platforms|Real Time|Social Network...</td>\n",
       "      <td>NaN</td>\n",
       "      <td>4/9/2014</td>\n",
       "      <td>NaN</td>\n",
       "      <td>NaN</td>\n",
       "      <td>...</td>\n",
       "      <td>NaN</td>\n",
       "      <td>NaN</td>\n",
       "      <td>NaN</td>\n",
       "      <td>NaN</td>\n",
       "      <td>NaN</td>\n",
       "      <td>NaN</td>\n",
       "      <td>NaN</td>\n",
       "      <td>2.0</td>\n",
       "      <td>NaN</td>\n",
       "      <td>NaN</td>\n",
       "    </tr>\n",
       "    <tr>\n",
       "      <th>2</th>\n",
       "      <td>NaN</td>\n",
       "      <td>(THE) ONE of THEM,Inc.</td>\n",
       "      <td>NaN</td>\n",
       "      <td>NaN</td>\n",
       "      <td>NaN</td>\n",
       "      <td>Apps|Games|Mobile</td>\n",
       "      <td>NaN</td>\n",
       "      <td>NaN</td>\n",
       "      <td>NaN</td>\n",
       "      <td>NaN</td>\n",
       "      <td>...</td>\n",
       "      <td>NaN</td>\n",
       "      <td>NaN</td>\n",
       "      <td>NaN</td>\n",
       "      <td>NaN</td>\n",
       "      <td>NaN</td>\n",
       "      <td>NaN</td>\n",
       "      <td>NaN</td>\n",
       "      <td>1.0</td>\n",
       "      <td>NaN</td>\n",
       "      <td>NaN</td>\n",
       "    </tr>\n",
       "    <tr>\n",
       "      <th>3</th>\n",
       "      <td>NaN</td>\n",
       "      <td>0-6.com</td>\n",
       "      <td>NaN</td>\n",
       "      <td>CHN</td>\n",
       "      <td>NaN</td>\n",
       "      <td>Curated Web</td>\n",
       "      <td>NaN</td>\n",
       "      <td>1/1/2007</td>\n",
       "      <td>Beijing</td>\n",
       "      <td>NaN</td>\n",
       "      <td>...</td>\n",
       "      <td>NaN</td>\n",
       "      <td>NaN</td>\n",
       "      <td>NaN</td>\n",
       "      <td>NaN</td>\n",
       "      <td>NaN</td>\n",
       "      <td>NaN</td>\n",
       "      <td>NaN</td>\n",
       "      <td>1.0</td>\n",
       "      <td>NaN</td>\n",
       "      <td>NaN</td>\n",
       "    </tr>\n",
       "    <tr>\n",
       "      <th>4</th>\n",
       "      <td>NaN</td>\n",
       "      <td>004 Technologies</td>\n",
       "      <td>NaN</td>\n",
       "      <td>USA</td>\n",
       "      <td>NaN</td>\n",
       "      <td>Software</td>\n",
       "      <td>NaN</td>\n",
       "      <td>1/1/2010</td>\n",
       "      <td>Springfield, Illinois</td>\n",
       "      <td>NaN</td>\n",
       "      <td>...</td>\n",
       "      <td>NaN</td>\n",
       "      <td>NaN</td>\n",
       "      <td>NaN</td>\n",
       "      <td>NaN</td>\n",
       "      <td>NaN</td>\n",
       "      <td>NaN</td>\n",
       "      <td>NaN</td>\n",
       "      <td>1.0</td>\n",
       "      <td>NaN</td>\n",
       "      <td>NaN</td>\n",
       "    </tr>\n",
       "  </tbody>\n",
       "</table>\n",
       "<p>5 rows × 41 columns</p>\n",
       "</div>"
      ],
      "text/plain": [
       "   CrunchBase Ranking Company Name/Organisation Name Acquired by Location  \\\n",
       "0                 NaN                          #fame         NaN      IND   \n",
       "1                 NaN                       :Qounter         NaN      USA   \n",
       "2                 NaN         (THE) ONE of THEM,Inc.         NaN      NaN   \n",
       "3                 NaN                        0-6.com         NaN      CHN   \n",
       "4                 NaN               004 Technologies         NaN      USA   \n",
       "\n",
       "   Number of Employees                                           Industry  \\\n",
       "0                  NaN                                              Media   \n",
       "1                  NaN  Application Platforms|Real Time|Social Network...   \n",
       "2                  NaN                                  Apps|Games|Mobile   \n",
       "3                  NaN                                        Curated Web   \n",
       "4                  NaN                                           Software   \n",
       "\n",
       "   IPO Status Founded Date   Headquarters Regions  Founders  ...  \\\n",
       "0         NaN          NaN                    NaN       NaN  ...   \n",
       "1         NaN     4/9/2014                    NaN       NaN  ...   \n",
       "2         NaN          NaN                    NaN       NaN  ...   \n",
       "3         NaN     1/1/2007                Beijing       NaN  ...   \n",
       "4         NaN     1/1/2010  Springfield, Illinois       NaN  ...   \n",
       "\n",
       "  Number of Diversity Investments  Number of Exits Related Hubs  \\\n",
       "0                             NaN              NaN          NaN   \n",
       "1                             NaN              NaN          NaN   \n",
       "2                             NaN              NaN          NaN   \n",
       "3                             NaN              NaN          NaN   \n",
       "4                             NaN              NaN          NaN   \n",
       "\n",
       "   Investor Type  Stock Symbol  IPO Date  Number of Sub Organisations  \\\n",
       "0            NaN           NaN       NaN                          NaN   \n",
       "1            NaN           NaN       NaN                          NaN   \n",
       "2            NaN           NaN       NaN                          NaN   \n",
       "3            NaN           NaN       NaN                          NaN   \n",
       "4            NaN           NaN       NaN                          NaN   \n",
       "\n",
       "   Funding Rounds  Funds Raised (for VC)  Number of Lead Investments  \n",
       "0             1.0                    NaN                         NaN  \n",
       "1             2.0                    NaN                         NaN  \n",
       "2             1.0                    NaN                         NaN  \n",
       "3             1.0                    NaN                         NaN  \n",
       "4             1.0                    NaN                         NaN  \n",
       "\n",
       "[5 rows x 41 columns]"
      ]
     },
     "execution_count": 5,
     "metadata": {},
     "output_type": "execute_result"
    }
   ],
   "source": [
    "comb = pd.read_csv(\"../Dataset/2015 combined data.csv\")\n",
    "comb.head()"
   ]
  },
  {
   "cell_type": "code",
   "execution_count": 6,
   "metadata": {},
   "outputs": [
    {
     "data": {
      "text/html": [
       "<div>\n",
       "<style scoped>\n",
       "    .dataframe tbody tr th:only-of-type {\n",
       "        vertical-align: middle;\n",
       "    }\n",
       "\n",
       "    .dataframe tbody tr th {\n",
       "        vertical-align: top;\n",
       "    }\n",
       "\n",
       "    .dataframe thead th {\n",
       "        text-align: right;\n",
       "    }\n",
       "</style>\n",
       "<table border=\"1\" class=\"dataframe\">\n",
       "  <thead>\n",
       "    <tr style=\"text-align: right;\">\n",
       "      <th></th>\n",
       "      <th>Company Name/Organisation Name</th>\n",
       "      <th>Operating Status</th>\n",
       "      <th>Last Funding Type</th>\n",
       "      <th>Total Funding Amount</th>\n",
       "      <th>Number of Funding Rounds</th>\n",
       "    </tr>\n",
       "  </thead>\n",
       "  <tbody>\n",
       "    <tr>\n",
       "      <th>0</th>\n",
       "      <td>#fame</td>\n",
       "      <td>operating</td>\n",
       "      <td>B</td>\n",
       "      <td>10000000.0</td>\n",
       "      <td>1.0</td>\n",
       "    </tr>\n",
       "    <tr>\n",
       "      <th>1</th>\n",
       "      <td>:Qounter</td>\n",
       "      <td>operating</td>\n",
       "      <td>A</td>\n",
       "      <td>700000.0</td>\n",
       "      <td>2.0</td>\n",
       "    </tr>\n",
       "    <tr>\n",
       "      <th>2</th>\n",
       "      <td>(THE) ONE of THEM,Inc.</td>\n",
       "      <td>operating</td>\n",
       "      <td>B</td>\n",
       "      <td>3406878.0</td>\n",
       "      <td>1.0</td>\n",
       "    </tr>\n",
       "    <tr>\n",
       "      <th>3</th>\n",
       "      <td>0-6.com</td>\n",
       "      <td>operating</td>\n",
       "      <td>A</td>\n",
       "      <td>2000000.0</td>\n",
       "      <td>1.0</td>\n",
       "    </tr>\n",
       "    <tr>\n",
       "      <th>4</th>\n",
       "      <td>004 Technologies</td>\n",
       "      <td>operating</td>\n",
       "      <td>NaN</td>\n",
       "      <td>NaN</td>\n",
       "      <td>1.0</td>\n",
       "    </tr>\n",
       "    <tr>\n",
       "      <th>...</th>\n",
       "      <td>...</td>\n",
       "      <td>...</td>\n",
       "      <td>...</td>\n",
       "      <td>...</td>\n",
       "      <td>...</td>\n",
       "    </tr>\n",
       "    <tr>\n",
       "      <th>66363</th>\n",
       "      <td>ZZNode Science and Technology</td>\n",
       "      <td>operating</td>\n",
       "      <td>A</td>\n",
       "      <td>1587301.0</td>\n",
       "      <td>1.0</td>\n",
       "    </tr>\n",
       "    <tr>\n",
       "      <th>66364</th>\n",
       "      <td>Zzzzapp Wireless ltd.</td>\n",
       "      <td>operating</td>\n",
       "      <td>NaN</td>\n",
       "      <td>114304.0</td>\n",
       "      <td>4.0</td>\n",
       "    </tr>\n",
       "    <tr>\n",
       "      <th>66365</th>\n",
       "      <td>ÃERON</td>\n",
       "      <td>operating</td>\n",
       "      <td>A</td>\n",
       "      <td>NaN</td>\n",
       "      <td>1.0</td>\n",
       "    </tr>\n",
       "    <tr>\n",
       "      <th>66366</th>\n",
       "      <td>Ã”asys</td>\n",
       "      <td>operating</td>\n",
       "      <td>NaN</td>\n",
       "      <td>18192.0</td>\n",
       "      <td>1.0</td>\n",
       "    </tr>\n",
       "    <tr>\n",
       "      <th>66367</th>\n",
       "      <td>Ä°novatiff Reklam ve TanÄ±tÄ±m Hizmetleri Tic</td>\n",
       "      <td>operating</td>\n",
       "      <td>NaN</td>\n",
       "      <td>14851.0</td>\n",
       "      <td>1.0</td>\n",
       "    </tr>\n",
       "  </tbody>\n",
       "</table>\n",
       "<p>66368 rows × 5 columns</p>\n",
       "</div>"
      ],
      "text/plain": [
       "                      Company Name/Organisation Name Operating Status  \\\n",
       "0                                              #fame        operating   \n",
       "1                                           :Qounter        operating   \n",
       "2                             (THE) ONE of THEM,Inc.        operating   \n",
       "3                                            0-6.com        operating   \n",
       "4                                   004 Technologies        operating   \n",
       "...                                              ...              ...   \n",
       "66363                  ZZNode Science and Technology        operating   \n",
       "66364                          Zzzzapp Wireless ltd.        operating   \n",
       "66365                                         ÃERON        operating   \n",
       "66366                                         Ã”asys        operating   \n",
       "66367  Ä°novatiff Reklam ve TanÄ±tÄ±m Hizmetleri Tic        operating   \n",
       "\n",
       "      Last Funding Type  Total Funding Amount  Number of Funding Rounds  \n",
       "0                     B            10000000.0                       1.0  \n",
       "1                     A              700000.0                       2.0  \n",
       "2                     B             3406878.0                       1.0  \n",
       "3                     A             2000000.0                       1.0  \n",
       "4                   NaN                   NaN                       1.0  \n",
       "...                 ...                   ...                       ...  \n",
       "66363                 A             1587301.0                       1.0  \n",
       "66364               NaN              114304.0                       4.0  \n",
       "66365                 A                   NaN                       1.0  \n",
       "66366               NaN               18192.0                       1.0  \n",
       "66367               NaN               14851.0                       1.0  \n",
       "\n",
       "[66368 rows x 5 columns]"
      ]
     },
     "execution_count": 6,
     "metadata": {},
     "output_type": "execute_result"
    }
   ],
   "source": [
    "df1 = comb[[\"Company Name/Organisation Name\",\"Operating Status\",\"Last Funding Type\",\"Total Funding Amount\", \"Number of Funding Rounds\"]].copy()\n",
    "df1"
   ]
  },
  {
   "cell_type": "code",
   "execution_count": 7,
   "metadata": {},
   "outputs": [],
   "source": [
    "df1_clean = df1.dropna()"
   ]
  },
  {
   "cell_type": "code",
   "execution_count": 8,
   "metadata": {},
   "outputs": [
    {
     "data": {
      "image/png": "[encoded data removed]",
      "text/plain": [
       "<Figure size 864x432 with 1 Axes>"
      ]
     },
     "metadata": {
      "needs_background": "light"
     },
     "output_type": "display_data"
    }
   ],
   "source": [
    "plt.figure(figsize = (12, 6))\n",
    "sns.distplot(df1_clean[\"Total Funding Amount\"])\n",
    "# plt.xlabel(\"Number of Clusters\")\n",
    "#     plt.ylabel(\"WSS\")\n",
    "#     plt.xticks(np.arange(1, max_clusters+1, 1))\n",
    "plt.show()"
   ]
  },
  {
   "cell_type": "code",
   "execution_count": 9,
   "metadata": {},
   "outputs": [
    {
     "data": {
      "image/png": "[encoded data removed]",
      "text/plain": [
       "<Figure size 864x432 with 1 Axes>"
      ]
     },
     "metadata": {
      "needs_background": "light"
     },
     "output_type": "display_data"
    }
   ],
   "source": [
    "plt.figure(figsize = (12, 6))\n",
    "sns.distplot(df1_clean[\"Number of Funding Rounds\"], kde = False)\n",
    "# plt.xlabel(\"Number of Clusters\")\n",
    "#     plt.ylabel(\"WSS\")\n",
    "#     plt.xticks(np.arange(1, max_clusters+1, 1))\n",
    "plt.show()"
   ]
  },
  {
   "cell_type": "code",
   "execution_count": 10,
   "metadata": {},
   "outputs": [
    {
     "data": {
      "text/html": [
       "<div>\n",
       "<style scoped>\n",
       "    .dataframe tbody tr th:only-of-type {\n",
       "        vertical-align: middle;\n",
       "    }\n",
       "\n",
       "    .dataframe tbody tr th {\n",
       "        vertical-align: top;\n",
       "    }\n",
       "\n",
       "    .dataframe thead th {\n",
       "        text-align: right;\n",
       "    }\n",
       "</style>\n",
       "<table border=\"1\" class=\"dataframe\">\n",
       "  <thead>\n",
       "    <tr style=\"text-align: right;\">\n",
       "      <th></th>\n",
       "      <th>Operating Status</th>\n",
       "      <th>Last Funding Type</th>\n",
       "      <th>Total Funding Amount</th>\n",
       "      <th>Number of Funding Rounds</th>\n",
       "    </tr>\n",
       "  </thead>\n",
       "  <tbody>\n",
       "    <tr>\n",
       "      <th>0</th>\n",
       "      <td>operating</td>\n",
       "      <td>B</td>\n",
       "      <td>10000000.0</td>\n",
       "      <td>1.0</td>\n",
       "    </tr>\n",
       "    <tr>\n",
       "      <th>1</th>\n",
       "      <td>operating</td>\n",
       "      <td>A</td>\n",
       "      <td>700000.0</td>\n",
       "      <td>2.0</td>\n",
       "    </tr>\n",
       "    <tr>\n",
       "      <th>2</th>\n",
       "      <td>operating</td>\n",
       "      <td>B</td>\n",
       "      <td>3406878.0</td>\n",
       "      <td>1.0</td>\n",
       "    </tr>\n",
       "    <tr>\n",
       "      <th>3</th>\n",
       "      <td>operating</td>\n",
       "      <td>A</td>\n",
       "      <td>2000000.0</td>\n",
       "      <td>1.0</td>\n",
       "    </tr>\n",
       "    <tr>\n",
       "      <th>7</th>\n",
       "      <td>operating</td>\n",
       "      <td>B</td>\n",
       "      <td>33600000.0</td>\n",
       "      <td>4.0</td>\n",
       "    </tr>\n",
       "    <tr>\n",
       "      <th>...</th>\n",
       "      <td>...</td>\n",
       "      <td>...</td>\n",
       "      <td>...</td>\n",
       "      <td>...</td>\n",
       "    </tr>\n",
       "    <tr>\n",
       "      <th>66353</th>\n",
       "      <td>operating</td>\n",
       "      <td>A</td>\n",
       "      <td>25000000.0</td>\n",
       "      <td>1.0</td>\n",
       "    </tr>\n",
       "    <tr>\n",
       "      <th>66354</th>\n",
       "      <td>operating</td>\n",
       "      <td>B</td>\n",
       "      <td>14750000.0</td>\n",
       "      <td>4.0</td>\n",
       "    </tr>\n",
       "    <tr>\n",
       "      <th>66360</th>\n",
       "      <td>acquired</td>\n",
       "      <td>A</td>\n",
       "      <td>8500000.0</td>\n",
       "      <td>1.0</td>\n",
       "    </tr>\n",
       "    <tr>\n",
       "      <th>66361</th>\n",
       "      <td>operating</td>\n",
       "      <td>A</td>\n",
       "      <td>2686600.0</td>\n",
       "      <td>1.0</td>\n",
       "    </tr>\n",
       "    <tr>\n",
       "      <th>66363</th>\n",
       "      <td>operating</td>\n",
       "      <td>A</td>\n",
       "      <td>1587301.0</td>\n",
       "      <td>1.0</td>\n",
       "    </tr>\n",
       "  </tbody>\n",
       "</table>\n",
       "<p>13611 rows × 4 columns</p>\n",
       "</div>"
      ],
      "text/plain": [
       "      Operating Status Last Funding Type  Total Funding Amount  \\\n",
       "0            operating                 B            10000000.0   \n",
       "1            operating                 A              700000.0   \n",
       "2            operating                 B             3406878.0   \n",
       "3            operating                 A             2000000.0   \n",
       "7            operating                 B            33600000.0   \n",
       "...                ...               ...                   ...   \n",
       "66353        operating                 A            25000000.0   \n",
       "66354        operating                 B            14750000.0   \n",
       "66360         acquired                 A             8500000.0   \n",
       "66361        operating                 A             2686600.0   \n",
       "66363        operating                 A             1587301.0   \n",
       "\n",
       "       Number of Funding Rounds  \n",
       "0                           1.0  \n",
       "1                           2.0  \n",
       "2                           1.0  \n",
       "3                           1.0  \n",
       "7                           4.0  \n",
       "...                         ...  \n",
       "66353                       1.0  \n",
       "66354                       4.0  \n",
       "66360                       1.0  \n",
       "66361                       1.0  \n",
       "66363                       1.0  \n",
       "\n",
       "[13611 rows x 4 columns]"
      ]
     },
     "execution_count": 10,
     "metadata": {},
     "output_type": "execute_result"
    }
   ],
   "source": [
    "features = df1_clean.iloc[:,1:]\n",
    "features"
   ]
  },
  {
   "cell_type": "code",
   "execution_count": 11,
   "metadata": {},
   "outputs": [
    {
     "data": {
      "text/html": [
       "<div>\n",
       "<style scoped>\n",
       "    .dataframe tbody tr th:only-of-type {\n",
       "        vertical-align: middle;\n",
       "    }\n",
       "\n",
       "    .dataframe tbody tr th {\n",
       "        vertical-align: top;\n",
       "    }\n",
       "\n",
       "    .dataframe thead th {\n",
       "        text-align: right;\n",
       "    }\n",
       "</style>\n",
       "<table border=\"1\" class=\"dataframe\">\n",
       "  <thead>\n",
       "    <tr style=\"text-align: right;\">\n",
       "      <th></th>\n",
       "      <th>Total Funding Amount</th>\n",
       "      <th>Number of Funding Rounds</th>\n",
       "    </tr>\n",
       "  </thead>\n",
       "  <tbody>\n",
       "    <tr>\n",
       "      <th>0</th>\n",
       "      <td>10000000.0</td>\n",
       "      <td>1.0</td>\n",
       "    </tr>\n",
       "    <tr>\n",
       "      <th>1</th>\n",
       "      <td>700000.0</td>\n",
       "      <td>2.0</td>\n",
       "    </tr>\n",
       "    <tr>\n",
       "      <th>2</th>\n",
       "      <td>3406878.0</td>\n",
       "      <td>1.0</td>\n",
       "    </tr>\n",
       "    <tr>\n",
       "      <th>3</th>\n",
       "      <td>2000000.0</td>\n",
       "      <td>1.0</td>\n",
       "    </tr>\n",
       "    <tr>\n",
       "      <th>7</th>\n",
       "      <td>33600000.0</td>\n",
       "      <td>4.0</td>\n",
       "    </tr>\n",
       "    <tr>\n",
       "      <th>...</th>\n",
       "      <td>...</td>\n",
       "      <td>...</td>\n",
       "    </tr>\n",
       "    <tr>\n",
       "      <th>66353</th>\n",
       "      <td>25000000.0</td>\n",
       "      <td>1.0</td>\n",
       "    </tr>\n",
       "    <tr>\n",
       "      <th>66354</th>\n",
       "      <td>14750000.0</td>\n",
       "      <td>4.0</td>\n",
       "    </tr>\n",
       "    <tr>\n",
       "      <th>66360</th>\n",
       "      <td>8500000.0</td>\n",
       "      <td>1.0</td>\n",
       "    </tr>\n",
       "    <tr>\n",
       "      <th>66361</th>\n",
       "      <td>2686600.0</td>\n",
       "      <td>1.0</td>\n",
       "    </tr>\n",
       "    <tr>\n",
       "      <th>66363</th>\n",
       "      <td>1587301.0</td>\n",
       "      <td>1.0</td>\n",
       "    </tr>\n",
       "  </tbody>\n",
       "</table>\n",
       "<p>13611 rows × 2 columns</p>\n",
       "</div>"
      ],
      "text/plain": [
       "       Total Funding Amount  Number of Funding Rounds\n",
       "0                10000000.0                       1.0\n",
       "1                  700000.0                       2.0\n",
       "2                 3406878.0                       1.0\n",
       "3                 2000000.0                       1.0\n",
       "7                33600000.0                       4.0\n",
       "...                     ...                       ...\n",
       "66353            25000000.0                       1.0\n",
       "66354            14750000.0                       4.0\n",
       "66360             8500000.0                       1.0\n",
       "66361             2686600.0                       1.0\n",
       "66363             1587301.0                       1.0\n",
       "\n",
       "[13611 rows x 2 columns]"
      ]
     },
     "execution_count": 11,
     "metadata": {},
     "output_type": "execute_result"
    }
   ],
   "source": [
    "kmeans_features = features.iloc[:,2:]\n",
    "kmeans_features"
   ]
  },
  {
   "cell_type": "code",
   "execution_count": 12,
   "metadata": {},
   "outputs": [],
   "source": [
    "feature_names = kmeans_features.columns.values"
   ]
  },
  {
   "cell_type": "code",
   "execution_count": 13,
   "metadata": {},
   "outputs": [
    {
     "data": {
      "text/plain": [
       "<matplotlib.axes._subplots.AxesSubplot at 0x7fe1d14a1400>"
      ]
     },
     "execution_count": 13,
     "metadata": {},
     "output_type": "execute_result"
    },
    {
     "data": {
      "image/png": "[encoded data removed]",
      "text/plain": [
       "<Figure size 432x288 with 1 Axes>"
      ]
     },
     "metadata": {
      "needs_background": "light"
     },
     "output_type": "display_data"
    }
   ],
   "source": [
    "sns.scatterplot(x= \"Total Funding Amount\", y=\"Number of Funding Rounds\", data= kmeans_features)"
   ]
  },
  {
   "cell_type": "code",
   "execution_count": 14,
   "metadata": {},
   "outputs": [],
   "source": [
    "scaler = StandardScaler()\n",
    "scaled_features = scaler.fit_transform(kmeans_features)"
   ]
  },
  {
   "cell_type": "code",
   "execution_count": 15,
   "metadata": {},
   "outputs": [
    {
     "data": {
      "text/plain": [
       "array([[-0.20767953, -0.81775313],\n",
       "       [-0.3435854 , -0.16143862],\n",
       "       [-0.30402834, -0.81775313],\n",
       "       [-0.3245878 , -0.81775313],\n",
       "       [ 0.13719986,  1.15119041]])"
      ]
     },
     "execution_count": 15,
     "metadata": {},
     "output_type": "execute_result"
    }
   ],
   "source": [
    "scaled_features[:5]"
   ]
  },
  {
   "cell_type": "code",
   "execution_count": 16,
   "metadata": {},
   "outputs": [
    {
     "data": {
      "text/html": [
       "<div>\n",
       "<style scoped>\n",
       "    .dataframe tbody tr th:only-of-type {\n",
       "        vertical-align: middle;\n",
       "    }\n",
       "\n",
       "    .dataframe tbody tr th {\n",
       "        vertical-align: top;\n",
       "    }\n",
       "\n",
       "    .dataframe thead th {\n",
       "        text-align: right;\n",
       "    }\n",
       "</style>\n",
       "<table border=\"1\" class=\"dataframe\">\n",
       "  <thead>\n",
       "    <tr style=\"text-align: right;\">\n",
       "      <th></th>\n",
       "      <th>Operating Status</th>\n",
       "      <th>Last Funding Type</th>\n",
       "      <th>Total Funding Amount</th>\n",
       "      <th>Number of Funding Rounds</th>\n",
       "    </tr>\n",
       "  </thead>\n",
       "  <tbody>\n",
       "    <tr>\n",
       "      <th>0</th>\n",
       "      <td>operating</td>\n",
       "      <td>B</td>\n",
       "      <td>10000000.0</td>\n",
       "      <td>1.0</td>\n",
       "    </tr>\n",
       "    <tr>\n",
       "      <th>1</th>\n",
       "      <td>operating</td>\n",
       "      <td>A</td>\n",
       "      <td>700000.0</td>\n",
       "      <td>2.0</td>\n",
       "    </tr>\n",
       "    <tr>\n",
       "      <th>2</th>\n",
       "      <td>operating</td>\n",
       "      <td>B</td>\n",
       "      <td>3406878.0</td>\n",
       "      <td>1.0</td>\n",
       "    </tr>\n",
       "    <tr>\n",
       "      <th>3</th>\n",
       "      <td>operating</td>\n",
       "      <td>A</td>\n",
       "      <td>2000000.0</td>\n",
       "      <td>1.0</td>\n",
       "    </tr>\n",
       "    <tr>\n",
       "      <th>7</th>\n",
       "      <td>operating</td>\n",
       "      <td>B</td>\n",
       "      <td>33600000.0</td>\n",
       "      <td>4.0</td>\n",
       "    </tr>\n",
       "    <tr>\n",
       "      <th>...</th>\n",
       "      <td>...</td>\n",
       "      <td>...</td>\n",
       "      <td>...</td>\n",
       "      <td>...</td>\n",
       "    </tr>\n",
       "    <tr>\n",
       "      <th>66353</th>\n",
       "      <td>operating</td>\n",
       "      <td>A</td>\n",
       "      <td>25000000.0</td>\n",
       "      <td>1.0</td>\n",
       "    </tr>\n",
       "    <tr>\n",
       "      <th>66354</th>\n",
       "      <td>operating</td>\n",
       "      <td>B</td>\n",
       "      <td>14750000.0</td>\n",
       "      <td>4.0</td>\n",
       "    </tr>\n",
       "    <tr>\n",
       "      <th>66360</th>\n",
       "      <td>acquired</td>\n",
       "      <td>A</td>\n",
       "      <td>8500000.0</td>\n",
       "      <td>1.0</td>\n",
       "    </tr>\n",
       "    <tr>\n",
       "      <th>66361</th>\n",
       "      <td>operating</td>\n",
       "      <td>A</td>\n",
       "      <td>2686600.0</td>\n",
       "      <td>1.0</td>\n",
       "    </tr>\n",
       "    <tr>\n",
       "      <th>66363</th>\n",
       "      <td>operating</td>\n",
       "      <td>A</td>\n",
       "      <td>1587301.0</td>\n",
       "      <td>1.0</td>\n",
       "    </tr>\n",
       "  </tbody>\n",
       "</table>\n",
       "<p>13611 rows × 4 columns</p>\n",
       "</div>"
      ],
      "text/plain": [
       "      Operating Status Last Funding Type  Total Funding Amount  \\\n",
       "0            operating                 B            10000000.0   \n",
       "1            operating                 A              700000.0   \n",
       "2            operating                 B             3406878.0   \n",
       "3            operating                 A             2000000.0   \n",
       "7            operating                 B            33600000.0   \n",
       "...                ...               ...                   ...   \n",
       "66353        operating                 A            25000000.0   \n",
       "66354        operating                 B            14750000.0   \n",
       "66360         acquired                 A             8500000.0   \n",
       "66361        operating                 A             2686600.0   \n",
       "66363        operating                 A             1587301.0   \n",
       "\n",
       "       Number of Funding Rounds  \n",
       "0                           1.0  \n",
       "1                           2.0  \n",
       "2                           1.0  \n",
       "3                           1.0  \n",
       "7                           4.0  \n",
       "...                         ...  \n",
       "66353                       1.0  \n",
       "66354                       4.0  \n",
       "66360                       1.0  \n",
       "66361                       1.0  \n",
       "66363                       1.0  \n",
       "\n",
       "[13611 rows x 4 columns]"
      ]
     },
     "execution_count": 16,
     "metadata": {},
     "output_type": "execute_result"
    }
   ],
   "source": [
    "features"
   ]
  },
  {
   "cell_type": "code",
   "execution_count": 17,
   "metadata": {},
   "outputs": [
    {
     "data": {
      "text/html": [
       "<div>\n",
       "<style scoped>\n",
       "    .dataframe tbody tr th:only-of-type {\n",
       "        vertical-align: middle;\n",
       "    }\n",
       "\n",
       "    .dataframe tbody tr th {\n",
       "        vertical-align: top;\n",
       "    }\n",
       "\n",
       "    .dataframe thead th {\n",
       "        text-align: right;\n",
       "    }\n",
       "</style>\n",
       "<table border=\"1\" class=\"dataframe\">\n",
       "  <thead>\n",
       "    <tr style=\"text-align: right;\">\n",
       "      <th></th>\n",
       "      <th>Funding__A</th>\n",
       "      <th>Funding__B</th>\n",
       "      <th>Funding__C</th>\n",
       "      <th>Funding__D</th>\n",
       "      <th>Funding__E</th>\n",
       "      <th>Funding__F</th>\n",
       "      <th>Funding__G</th>\n",
       "      <th>Funding__H</th>\n",
       "    </tr>\n",
       "  </thead>\n",
       "  <tbody>\n",
       "    <tr>\n",
       "      <th>0</th>\n",
       "      <td>0</td>\n",
       "      <td>1</td>\n",
       "      <td>0</td>\n",
       "      <td>0</td>\n",
       "      <td>0</td>\n",
       "      <td>0</td>\n",
       "      <td>0</td>\n",
       "      <td>0</td>\n",
       "    </tr>\n",
       "    <tr>\n",
       "      <th>1</th>\n",
       "      <td>1</td>\n",
       "      <td>0</td>\n",
       "      <td>0</td>\n",
       "      <td>0</td>\n",
       "      <td>0</td>\n",
       "      <td>0</td>\n",
       "      <td>0</td>\n",
       "      <td>0</td>\n",
       "    </tr>\n",
       "    <tr>\n",
       "      <th>2</th>\n",
       "      <td>0</td>\n",
       "      <td>1</td>\n",
       "      <td>0</td>\n",
       "      <td>0</td>\n",
       "      <td>0</td>\n",
       "      <td>0</td>\n",
       "      <td>0</td>\n",
       "      <td>0</td>\n",
       "    </tr>\n",
       "    <tr>\n",
       "      <th>3</th>\n",
       "      <td>1</td>\n",
       "      <td>0</td>\n",
       "      <td>0</td>\n",
       "      <td>0</td>\n",
       "      <td>0</td>\n",
       "      <td>0</td>\n",
       "      <td>0</td>\n",
       "      <td>0</td>\n",
       "    </tr>\n",
       "    <tr>\n",
       "      <th>7</th>\n",
       "      <td>0</td>\n",
       "      <td>1</td>\n",
       "      <td>0</td>\n",
       "      <td>0</td>\n",
       "      <td>0</td>\n",
       "      <td>0</td>\n",
       "      <td>0</td>\n",
       "      <td>0</td>\n",
       "    </tr>\n",
       "    <tr>\n",
       "      <th>...</th>\n",
       "      <td>...</td>\n",
       "      <td>...</td>\n",
       "      <td>...</td>\n",
       "      <td>...</td>\n",
       "      <td>...</td>\n",
       "      <td>...</td>\n",
       "      <td>...</td>\n",
       "      <td>...</td>\n",
       "    </tr>\n",
       "    <tr>\n",
       "      <th>66353</th>\n",
       "      <td>1</td>\n",
       "      <td>0</td>\n",
       "      <td>0</td>\n",
       "      <td>0</td>\n",
       "      <td>0</td>\n",
       "      <td>0</td>\n",
       "      <td>0</td>\n",
       "      <td>0</td>\n",
       "    </tr>\n",
       "    <tr>\n",
       "      <th>66354</th>\n",
       "      <td>0</td>\n",
       "      <td>1</td>\n",
       "      <td>0</td>\n",
       "      <td>0</td>\n",
       "      <td>0</td>\n",
       "      <td>0</td>\n",
       "      <td>0</td>\n",
       "      <td>0</td>\n",
       "    </tr>\n",
       "    <tr>\n",
       "      <th>66360</th>\n",
       "      <td>1</td>\n",
       "      <td>0</td>\n",
       "      <td>0</td>\n",
       "      <td>0</td>\n",
       "      <td>0</td>\n",
       "      <td>0</td>\n",
       "      <td>0</td>\n",
       "      <td>0</td>\n",
       "    </tr>\n",
       "    <tr>\n",
       "      <th>66361</th>\n",
       "      <td>1</td>\n",
       "      <td>0</td>\n",
       "      <td>0</td>\n",
       "      <td>0</td>\n",
       "      <td>0</td>\n",
       "      <td>0</td>\n",
       "      <td>0</td>\n",
       "      <td>0</td>\n",
       "    </tr>\n",
       "    <tr>\n",
       "      <th>66363</th>\n",
       "      <td>1</td>\n",
       "      <td>0</td>\n",
       "      <td>0</td>\n",
       "      <td>0</td>\n",
       "      <td>0</td>\n",
       "      <td>0</td>\n",
       "      <td>0</td>\n",
       "      <td>0</td>\n",
       "    </tr>\n",
       "  </tbody>\n",
       "</table>\n",
       "<p>13611 rows × 8 columns</p>\n",
       "</div>"
      ],
      "text/plain": [
       "       Funding__A  Funding__B  Funding__C  Funding__D  Funding__E  Funding__F  \\\n",
       "0               0           1           0           0           0           0   \n",
       "1               1           0           0           0           0           0   \n",
       "2               0           1           0           0           0           0   \n",
       "3               1           0           0           0           0           0   \n",
       "7               0           1           0           0           0           0   \n",
       "...           ...         ...         ...         ...         ...         ...   \n",
       "66353           1           0           0           0           0           0   \n",
       "66354           0           1           0           0           0           0   \n",
       "66360           1           0           0           0           0           0   \n",
       "66361           1           0           0           0           0           0   \n",
       "66363           1           0           0           0           0           0   \n",
       "\n",
       "       Funding__G  Funding__H  \n",
       "0               0           0  \n",
       "1               0           0  \n",
       "2               0           0  \n",
       "3               0           0  \n",
       "7               0           0  \n",
       "...           ...         ...  \n",
       "66353           0           0  \n",
       "66354           0           0  \n",
       "66360           0           0  \n",
       "66361           0           0  \n",
       "66363           0           0  \n",
       "\n",
       "[13611 rows x 8 columns]"
      ]
     },
     "execution_count": 17,
     "metadata": {},
     "output_type": "execute_result"
    }
   ],
   "source": [
    "cat_var = pd.get_dummies(features[\"Last Funding Type\"], prefix= \"Funding_\")\n",
    "cat_var"
   ]
  },
  {
   "cell_type": "code",
   "execution_count": 18,
   "metadata": {},
   "outputs": [],
   "source": [
    "df = pd.concat([features.drop(\"Last Funding Type\", axis= 1), cat_var], axis= 1)"
   ]
  },
  {
   "cell_type": "code",
   "execution_count": null,
   "metadata": {},
   "outputs": [],
   "source": []
  },
  {
   "cell_type": "code",
   "execution_count": 19,
   "metadata": {},
   "outputs": [],
   "source": [
    "enc = OneHotEncoder(handle_unknown='ignore')"
   ]
  },
  {
   "cell_type": "code",
   "execution_count": 20,
   "metadata": {},
   "outputs": [
    {
     "data": {
      "text/plain": [
       "array([['operating', 'B'],\n",
       "       ['operating', 'A'],\n",
       "       ['operating', 'B'],\n",
       "       ...,\n",
       "       ['acquired', 'A'],\n",
       "       ['operating', 'A'],\n",
       "       ['operating', 'A']], dtype=object)"
      ]
     },
     "execution_count": 20,
     "metadata": {},
     "output_type": "execute_result"
    }
   ],
   "source": [
    "features.values[:,0:2]"
   ]
  },
  {
   "cell_type": "code",
   "execution_count": 21,
   "metadata": {},
   "outputs": [
    {
     "data": {
      "text/plain": [
       "OneHotEncoder(categories='auto', drop=None, dtype=<class 'numpy.float64'>,\n",
       "              handle_unknown='ignore', sparse=True)"
      ]
     },
     "execution_count": 21,
     "metadata": {},
     "output_type": "execute_result"
    }
   ],
   "source": [
    "enc.fit(features.values[:,0:2])"
   ]
  },
  {
   "cell_type": "code",
   "execution_count": 22,
   "metadata": {},
   "outputs": [],
   "source": [
    "cat_var = enc.transform(features.values[:,0:2]).toarray()"
   ]
  },
  {
   "cell_type": "code",
   "execution_count": 23,
   "metadata": {},
   "outputs": [
    {
     "data": {
      "text/html": [
       "<div>\n",
       "<style scoped>\n",
       "    .dataframe tbody tr th:only-of-type {\n",
       "        vertical-align: middle;\n",
       "    }\n",
       "\n",
       "    .dataframe tbody tr th {\n",
       "        vertical-align: top;\n",
       "    }\n",
       "\n",
       "    .dataframe thead th {\n",
       "        text-align: right;\n",
       "    }\n",
       "</style>\n",
       "<table border=\"1\" class=\"dataframe\">\n",
       "  <thead>\n",
       "    <tr style=\"text-align: right;\">\n",
       "      <th></th>\n",
       "      <th>Operating Status</th>\n",
       "      <th>Total Funding Amount</th>\n",
       "      <th>Number of Funding Rounds</th>\n",
       "      <th>Funding__A</th>\n",
       "      <th>Funding__B</th>\n",
       "      <th>Funding__C</th>\n",
       "      <th>Funding__D</th>\n",
       "      <th>Funding__E</th>\n",
       "      <th>Funding__F</th>\n",
       "      <th>Funding__G</th>\n",
       "      <th>Funding__H</th>\n",
       "    </tr>\n",
       "  </thead>\n",
       "  <tbody>\n",
       "    <tr>\n",
       "      <th>0</th>\n",
       "      <td>operating</td>\n",
       "      <td>10000000.0</td>\n",
       "      <td>1.0</td>\n",
       "      <td>0</td>\n",
       "      <td>1</td>\n",
       "      <td>0</td>\n",
       "      <td>0</td>\n",
       "      <td>0</td>\n",
       "      <td>0</td>\n",
       "      <td>0</td>\n",
       "      <td>0</td>\n",
       "    </tr>\n",
       "    <tr>\n",
       "      <th>1</th>\n",
       "      <td>operating</td>\n",
       "      <td>700000.0</td>\n",
       "      <td>2.0</td>\n",
       "      <td>1</td>\n",
       "      <td>0</td>\n",
       "      <td>0</td>\n",
       "      <td>0</td>\n",
       "      <td>0</td>\n",
       "      <td>0</td>\n",
       "      <td>0</td>\n",
       "      <td>0</td>\n",
       "    </tr>\n",
       "    <tr>\n",
       "      <th>2</th>\n",
       "      <td>operating</td>\n",
       "      <td>3406878.0</td>\n",
       "      <td>1.0</td>\n",
       "      <td>0</td>\n",
       "      <td>1</td>\n",
       "      <td>0</td>\n",
       "      <td>0</td>\n",
       "      <td>0</td>\n",
       "      <td>0</td>\n",
       "      <td>0</td>\n",
       "      <td>0</td>\n",
       "    </tr>\n",
       "    <tr>\n",
       "      <th>3</th>\n",
       "      <td>operating</td>\n",
       "      <td>2000000.0</td>\n",
       "      <td>1.0</td>\n",
       "      <td>1</td>\n",
       "      <td>0</td>\n",
       "      <td>0</td>\n",
       "      <td>0</td>\n",
       "      <td>0</td>\n",
       "      <td>0</td>\n",
       "      <td>0</td>\n",
       "      <td>0</td>\n",
       "    </tr>\n",
       "    <tr>\n",
       "      <th>7</th>\n",
       "      <td>operating</td>\n",
       "      <td>33600000.0</td>\n",
       "      <td>4.0</td>\n",
       "      <td>0</td>\n",
       "      <td>1</td>\n",
       "      <td>0</td>\n",
       "      <td>0</td>\n",
       "      <td>0</td>\n",
       "      <td>0</td>\n",
       "      <td>0</td>\n",
       "      <td>0</td>\n",
       "    </tr>\n",
       "    <tr>\n",
       "      <th>...</th>\n",
       "      <td>...</td>\n",
       "      <td>...</td>\n",
       "      <td>...</td>\n",
       "      <td>...</td>\n",
       "      <td>...</td>\n",
       "      <td>...</td>\n",
       "      <td>...</td>\n",
       "      <td>...</td>\n",
       "      <td>...</td>\n",
       "      <td>...</td>\n",
       "      <td>...</td>\n",
       "    </tr>\n",
       "    <tr>\n",
       "      <th>66353</th>\n",
       "      <td>operating</td>\n",
       "      <td>25000000.0</td>\n",
       "      <td>1.0</td>\n",
       "      <td>1</td>\n",
       "      <td>0</td>\n",
       "      <td>0</td>\n",
       "      <td>0</td>\n",
       "      <td>0</td>\n",
       "      <td>0</td>\n",
       "      <td>0</td>\n",
       "      <td>0</td>\n",
       "    </tr>\n",
       "    <tr>\n",
       "      <th>66354</th>\n",
       "      <td>operating</td>\n",
       "      <td>14750000.0</td>\n",
       "      <td>4.0</td>\n",
       "      <td>0</td>\n",
       "      <td>1</td>\n",
       "      <td>0</td>\n",
       "      <td>0</td>\n",
       "      <td>0</td>\n",
       "      <td>0</td>\n",
       "      <td>0</td>\n",
       "      <td>0</td>\n",
       "    </tr>\n",
       "    <tr>\n",
       "      <th>66360</th>\n",
       "      <td>acquired</td>\n",
       "      <td>8500000.0</td>\n",
       "      <td>1.0</td>\n",
       "      <td>1</td>\n",
       "      <td>0</td>\n",
       "      <td>0</td>\n",
       "      <td>0</td>\n",
       "      <td>0</td>\n",
       "      <td>0</td>\n",
       "      <td>0</td>\n",
       "      <td>0</td>\n",
       "    </tr>\n",
       "    <tr>\n",
       "      <th>66361</th>\n",
       "      <td>operating</td>\n",
       "      <td>2686600.0</td>\n",
       "      <td>1.0</td>\n",
       "      <td>1</td>\n",
       "      <td>0</td>\n",
       "      <td>0</td>\n",
       "      <td>0</td>\n",
       "      <td>0</td>\n",
       "      <td>0</td>\n",
       "      <td>0</td>\n",
       "      <td>0</td>\n",
       "    </tr>\n",
       "    <tr>\n",
       "      <th>66363</th>\n",
       "      <td>operating</td>\n",
       "      <td>1587301.0</td>\n",
       "      <td>1.0</td>\n",
       "      <td>1</td>\n",
       "      <td>0</td>\n",
       "      <td>0</td>\n",
       "      <td>0</td>\n",
       "      <td>0</td>\n",
       "      <td>0</td>\n",
       "      <td>0</td>\n",
       "      <td>0</td>\n",
       "    </tr>\n",
       "  </tbody>\n",
       "</table>\n",
       "<p>13611 rows × 11 columns</p>\n",
       "</div>"
      ],
      "text/plain": [
       "      Operating Status  Total Funding Amount  Number of Funding Rounds  \\\n",
       "0            operating            10000000.0                       1.0   \n",
       "1            operating              700000.0                       2.0   \n",
       "2            operating             3406878.0                       1.0   \n",
       "3            operating             2000000.0                       1.0   \n",
       "7            operating            33600000.0                       4.0   \n",
       "...                ...                   ...                       ...   \n",
       "66353        operating            25000000.0                       1.0   \n",
       "66354        operating            14750000.0                       4.0   \n",
       "66360         acquired             8500000.0                       1.0   \n",
       "66361        operating             2686600.0                       1.0   \n",
       "66363        operating             1587301.0                       1.0   \n",
       "\n",
       "       Funding__A  Funding__B  Funding__C  Funding__D  Funding__E  Funding__F  \\\n",
       "0               0           1           0           0           0           0   \n",
       "1               1           0           0           0           0           0   \n",
       "2               0           1           0           0           0           0   \n",
       "3               1           0           0           0           0           0   \n",
       "7               0           1           0           0           0           0   \n",
       "...           ...         ...         ...         ...         ...         ...   \n",
       "66353           1           0           0           0           0           0   \n",
       "66354           0           1           0           0           0           0   \n",
       "66360           1           0           0           0           0           0   \n",
       "66361           1           0           0           0           0           0   \n",
       "66363           1           0           0           0           0           0   \n",
       "\n",
       "       Funding__G  Funding__H  \n",
       "0               0           0  \n",
       "1               0           0  \n",
       "2               0           0  \n",
       "3               0           0  \n",
       "7               0           0  \n",
       "...           ...         ...  \n",
       "66353           0           0  \n",
       "66354           0           0  \n",
       "66360           0           0  \n",
       "66361           0           0  \n",
       "66363           0           0  \n",
       "\n",
       "[13611 rows x 11 columns]"
      ]
     },
     "execution_count": 23,
     "metadata": {},
     "output_type": "execute_result"
    }
   ],
   "source": [
    "df"
   ]
  },
  {
   "cell_type": "code",
   "execution_count": 24,
   "metadata": {},
   "outputs": [],
   "source": [
    "X = df.drop(\"Operating Status\", axis = 1).values"
   ]
  },
  {
   "cell_type": "code",
   "execution_count": 25,
   "metadata": {},
   "outputs": [
    {
     "data": {
      "text/plain": [
       "array([[1.000000e+07, 1.000000e+00, 0.000000e+00, ..., 0.000000e+00,\n",
       "        0.000000e+00, 0.000000e+00],\n",
       "       [7.000000e+05, 2.000000e+00, 1.000000e+00, ..., 0.000000e+00,\n",
       "        0.000000e+00, 0.000000e+00],\n",
       "       [3.406878e+06, 1.000000e+00, 0.000000e+00, ..., 0.000000e+00,\n",
       "        0.000000e+00, 0.000000e+00],\n",
       "       ...,\n",
       "       [8.500000e+06, 1.000000e+00, 1.000000e+00, ..., 0.000000e+00,\n",
       "        0.000000e+00, 0.000000e+00],\n",
       "       [2.686600e+06, 1.000000e+00, 1.000000e+00, ..., 0.000000e+00,\n",
       "        0.000000e+00, 0.000000e+00],\n",
       "       [1.587301e+06, 1.000000e+00, 1.000000e+00, ..., 0.000000e+00,\n",
       "        0.000000e+00, 0.000000e+00]])"
      ]
     },
     "execution_count": 25,
     "metadata": {},
     "output_type": "execute_result"
    }
   ],
   "source": [
    "X"
   ]
  },
  {
   "cell_type": "code",
   "execution_count": 26,
   "metadata": {},
   "outputs": [
    {
     "data": {
      "text/plain": [
       "array([[1.000000e+07, 1.000000e+00],\n",
       "       [7.000000e+05, 2.000000e+00],\n",
       "       [3.406878e+06, 1.000000e+00],\n",
       "       ...,\n",
       "       [8.500000e+06, 1.000000e+00],\n",
       "       [2.686600e+06, 1.000000e+00],\n",
       "       [1.587301e+06, 1.000000e+00]])"
      ]
     },
     "execution_count": 26,
     "metadata": {},
     "output_type": "execute_result"
    }
   ],
   "source": [
    "X[:,:2]"
   ]
  },
  {
   "cell_type": "code",
   "execution_count": 27,
   "metadata": {},
   "outputs": [],
   "source": [
    "X_scaled = scaler.fit_transform(X[:,:2])"
   ]
  },
  {
   "cell_type": "code",
   "execution_count": 28,
   "metadata": {},
   "outputs": [],
   "source": [
    "X_final = np.concatenate([X_scaled, X[:, 2:]], axis = 1)"
   ]
  },
  {
   "cell_type": "code",
   "execution_count": 29,
   "metadata": {},
   "outputs": [
    {
     "data": {
      "text/plain": [
       "array([[-0.20767953, -0.81775313,  0.        , ...,  0.        ,\n",
       "         0.        ,  0.        ],\n",
       "       [-0.3435854 , -0.16143862,  1.        , ...,  0.        ,\n",
       "         0.        ,  0.        ],\n",
       "       [-0.30402834, -0.81775313,  0.        , ...,  0.        ,\n",
       "         0.        ,  0.        ],\n",
       "       ...,\n",
       "       [-0.22959983, -0.81775313,  1.        , ...,  0.        ,\n",
       "         0.        ,  0.        ],\n",
       "       [-0.31455415, -0.81775313,  1.        , ...,  0.        ,\n",
       "         0.        ,  0.        ],\n",
       "       [-0.33061879, -0.81775313,  1.        , ...,  0.        ,\n",
       "         0.        ,  0.        ]])"
      ]
     },
     "execution_count": 29,
     "metadata": {},
     "output_type": "execute_result"
    }
   ],
   "source": [
    "X_final"
   ]
  },
  {
   "cell_type": "code",
   "execution_count": 30,
   "metadata": {},
   "outputs": [],
   "source": [
    "n_clusters = 4\n",
    "n_init = 10\n",
    "max_iter = 300\n",
    "random_state = 42\n",
    "\n",
    "kmeans = KMeans(\n",
    "    init = \"random\",\n",
    "    n_clusters = n_clusters,\n",
    "    n_init = n_init,\n",
    "    random_state = random_state)"
   ]
  },
  {
   "cell_type": "code",
   "execution_count": 31,
   "metadata": {},
   "outputs": [
    {
     "data": {
      "text/plain": [
       "KMeans(algorithm='auto', copy_x=True, init='random', max_iter=300, n_clusters=4,\n",
       "       n_init=10, n_jobs=None, precompute_distances='auto', random_state=42,\n",
       "       tol=0.0001, verbose=0)"
      ]
     },
     "execution_count": 31,
     "metadata": {},
     "output_type": "execute_result"
    }
   ],
   "source": [
    "kmeans.fit(X_final[:, 2:])"
   ]
  },
  {
   "cell_type": "code",
   "execution_count": 32,
   "metadata": {},
   "outputs": [],
   "source": [
    "pred = kmeans.predict(X_final[:, 2:])"
   ]
  },
  {
   "cell_type": "code",
   "execution_count": 33,
   "metadata": {},
   "outputs": [],
   "source": [
    "#kmeans_visual(X_final[:, 2:], pred, kmeans.cluster_centers_, 1, 2)"
   ]
  },
  {
   "cell_type": "code",
   "execution_count": null,
   "metadata": {},
   "outputs": [],
   "source": []
  },
  {
   "cell_type": "markdown",
   "metadata": {},
   "source": [
    "# Hierarchical Clustering"
   ]
  },
  {
   "cell_type": "code",
   "execution_count": 84,
   "metadata": {},
   "outputs": [],
   "source": [
    "from sklearn.preprocessing import normalize\n",
    "from sklearn.cluster import AgglomerativeClustering"
   ]
  },
  {
   "cell_type": "code",
   "execution_count": null,
   "metadata": {},
   "outputs": [],
   "source": [
    "# Creating a Dendrogram \n",
    "def dendrogram_visual(X):\n",
    "    data_scaled = normalize(X)\n",
    "    \n",
    "    # Creating the linkage matrix\n",
    "    linked = linkage(data_scaled, method = \"ward\", metric = \"euclidean\")\n",
    "    print(\"Created linkage matrix\")\n",
    "    \n",
    "    # Plotting the dendrogram\n",
    "    plt.figure(figsize = (12, 6))\n",
    "    plt.title(\"Dendrogram\")\n",
    "    plt.ylabel(\"Distance\")\n",
    "    dend = dendrogram(linked, orientation= 'top', labels= labelList, \n",
    "                  distance_sort = \"descending\", show_leaf_counts = True)\n",
    "    plt.show()\n",
    "\n",
    "# Visualising the clusters    \n",
    "def hierarchical_visual(X, label, x1, x2, feature_names = None, \n",
    "                        scaled = True, scaler = None):\n",
    "    \n",
    "    limit = scaled_features.shape[1]\n",
    "\n",
    "    if (x1 > limit or x2 > limit):\n",
    "        print(\"Invalid feature selected\")\n",
    "        return None\n",
    "    \n",
    "    # Changing the selected feature to column index\n",
    "    x1 = x1 - 1\n",
    "    x2 = x2 - 1\n",
    "    \n",
    "    # Whether to plot to actual scale\n",
    "    if (scaled and scaler):\n",
    "        X = scaler.inverse_transform(X)\n",
    "        \n",
    "    plt.figure(figsize = (12, 6))\n",
    "    \n",
    "    sns.scatterplot(x = X[:, x1].reshape(-1),y = X[:, x2].reshape(-1), hue = label,\n",
    "                    alpha = 0.7,\n",
    "                palette = sns.color_palette(\"Set2\", n_colors=len(np.unique(lab))))\n",
    "\n",
    "    #sns.scatterplot(centers[:, x1].reshape(-1), centers[:, x2].reshape(-1),\n",
    "                   #color = 'black', s = 200, alpha = 0.5)\n",
    "    \n",
    "    if feature_names != None:\n",
    "        plt.xlabel(feature_names[x1])\n",
    "        plt.ylabel(feature_names[x2])\n",
    "        \n",
    "    plt.show()"
   ]
  },
  {
   "cell_type": "code",
   "execution_count": 164,
   "metadata": {},
   "outputs": [],
   "source": [
    "data_scaled = normalize(X_final)"
   ]
  },
  {
   "cell_type": "code",
   "execution_count": 166,
   "metadata": {},
   "outputs": [
    {
     "data": {
      "text/plain": [
       "array([[-0.15873062, -0.62501327,  0.        , ...,  0.        ,\n",
       "         0.        ,  0.        ],\n",
       "       [-0.32121822, -0.15092907,  0.93490067, ...,  0.        ,\n",
       "         0.        ,  0.        ],\n",
       "       [-0.22909493, -0.61620273,  0.        , ...,  0.        ,\n",
       "         0.        ,  0.        ],\n",
       "       ...,\n",
       "       [-0.17499518, -0.62327074,  0.7621747 , ...,  0.        ,\n",
       "         0.        ,  0.        ],\n",
       "       [-0.23658952, -0.61506681,  0.75214242, ...,  0.        ,\n",
       "         0.        ,  0.        ],\n",
       "       [-0.24794658, -0.61327152,  0.74994702, ...,  0.        ,\n",
       "         0.        ,  0.        ]])"
      ]
     },
     "execution_count": 166,
     "metadata": {},
     "output_type": "execute_result"
    }
   ],
   "source": [
    "data_scaled"
   ]
  },
  {
   "cell_type": "code",
   "execution_count": 104,
   "metadata": {},
   "outputs": [
    {
     "name": "stdout",
     "output_type": "stream",
     "text": [
      "Created linkage matrix\n"
     ]
    },
    {
     "data": {
      "image/png": "[encoded data removed]",
      "text/plain": [
       "<Figure size 864x432 with 1 Axes>"
      ]
     },
     "metadata": {
      "needs_background": "light"
     },
     "output_type": "display_data"
    }
   ],
   "source": [
    "dendrogram_visual(data_scaled)"
   ]
  },
  {
   "cell_type": "code",
   "execution_count": 167,
   "metadata": {},
   "outputs": [
    {
     "data": {
      "text/plain": [
       "array([0, 1, 0, ..., 1, 1, 1])"
      ]
     },
     "execution_count": 167,
     "metadata": {},
     "output_type": "execute_result"
    }
   ],
   "source": [
    "cluster = AgglomerativeClustering(n_clusters = 3, affinity= \"euclidean\",\n",
    "                                 linkage = \"ward\")\n",
    "cluster.fit_predict(data_scaled)"
   ]
  },
  {
   "cell_type": "code",
   "execution_count": 176,
   "metadata": {},
   "outputs": [
    {
     "data": {
      "text/plain": [
       "3"
      ]
     },
     "execution_count": 176,
     "metadata": {},
     "output_type": "execute_result"
    }
   ],
   "source": [
    "lab = cluster.labels_\n",
    "len(np.unique(lab))"
   ]
  },
  {
   "cell_type": "code",
   "execution_count": 177,
   "metadata": {},
   "outputs": [
    {
     "name": "stdout",
     "output_type": "stream",
     "text": [
      "[[   0    1    2]\n",
      " [3728 5246 4637]]\n"
     ]
    }
   ],
   "source": [
    "unique, count = np.unique(lab, return_counts = True)\n",
    "freq = np.asarray((unique, count))\n",
    "print(freq)"
   ]
  },
  {
   "cell_type": "code",
   "execution_count": 175,
   "metadata": {},
   "outputs": [
    {
     "data": {
      "image/png": "[encoded data removed]",
      "text/plain": [
       "<Figure size 864x432 with 1 Axes>"
      ]
     },
     "metadata": {
      "needs_background": "light"
     },
     "output_type": "display_data"
    }
   ],
   "source": [
    "hierarchical_visual(X, lab, 1, 2, \n",
    "                    ['Total Funding Amount', 'Number of Funding Rounds'])"
   ]
  },
  {
   "cell_type": "code",
   "execution_count": null,
   "metadata": {},
   "outputs": [],
   "source": []
  },
  {
   "cell_type": "markdown",
   "metadata": {},
   "source": [
    "# Pre-processing "
   ]
  },
  {
   "cell_type": "markdown",
   "metadata": {},
   "source": [
    "### 1) Using the Elbow Method to determine number of clusters"
   ]
  },
  {
   "cell_type": "code",
   "execution_count": 42,
   "metadata": {},
   "outputs": [],
   "source": [
    "# Pick the cluster with the last significant decrease in WSS score\n",
    "# (Reasonable trade-off between error and number of clusters)\n",
    "\n",
    "def elbow_method(scaled_features, max_clusters):\n",
    "    WSS = []\n",
    "    \n",
    "    for cluster in range(1, max_clusters):\n",
    "        kmeans = KMeans(init = \"k-means++\", n_clusters = cluster,\n",
    "                        n_init = 10, random_state = 42)\n",
    "        kmeans.fit(scaled_features)\n",
    "        WSS.append(kmeans.inertia_)\n",
    "\n",
    "    frame = pd.DataFrame(data = {\"Clusters\": range(1,max_clusters), \"WSS\": WSS})\n",
    "    plt.figure(figsize = (12, 6))\n",
    "    sns.lineplot(frame[\"Clusters\"], frame[\"WSS\"], marker = \"o\")\n",
    "    plt.xlabel(\"Number of Clusters\")\n",
    "    plt.ylabel(\"WSS\")\n",
    "    plt.xticks(np.arange(1, max_clusters+1, 1))\n",
    "    plt.show()"
   ]
  },
  {
   "cell_type": "code",
   "execution_count": 43,
   "metadata": {},
   "outputs": [
    {
     "data": {
      "image/png": "[encoded data removed]",
      "text/plain": [
       "<Figure size 864x432 with 1 Axes>"
      ]
     },
     "metadata": {
      "needs_background": "light"
     },
     "output_type": "display_data"
    }
   ],
   "source": [
    "elbow_method(scaled_features, 20)"
   ]
  },
  {
   "cell_type": "markdown",
   "metadata": {},
   "source": [
    "### 2) Using the Silhouette Coefficient Method"
   ]
  },
  {
   "cell_type": "code",
   "execution_count": 44,
   "metadata": {},
   "outputs": [],
   "source": [
    "# Pick the cluster with the maximum score\n",
    "\n",
    "def silhouette_method(scaled_features, max_clusters):\n",
    "    silhouette_coef = []\n",
    "    \n",
    "    # We start at 2 clusters for silhouette coefficient\n",
    "    for cluster in range(2, max_clusters):\n",
    "        kmeans = KMeans(init = \"k-means++\", n_clusters = cluster,\n",
    "                        n_init = 10, random_state = 42)\n",
    "        kmeans.fit(scaled_features)\n",
    "        score = silhouette_score(scaled_features, kmeans.labels_)\n",
    "        silhouette_coef.append(score)\n",
    "\n",
    "    frame = pd.DataFrame(data = {\"Clusters\": range(2,max_clusters), \n",
    "                                 \"Silhouette Coefficient\": silhouette_coef})\n",
    "    plt.figure(figsize = (12, 6))\n",
    "    sns.lineplot(frame[\"Clusters\"], \n",
    "                 frame[\"Silhouette Coefficient\"], marker = \"o\")\n",
    "    plt.xlabel(\"Number of Clusters\")\n",
    "    plt.ylabel(\"Silhouette Coefficient\")\n",
    "    plt.xticks(np.arange(2, max_clusters+1, 1))\n",
    "    plt.show()"
   ]
  },
  {
   "cell_type": "code",
   "execution_count": 45,
   "metadata": {},
   "outputs": [
    {
     "data": {
      "image/png": "[encoded data removed]",
      "text/plain": [
       "<Figure size 864x432 with 1 Axes>"
      ]
     },
     "metadata": {
      "needs_background": "light"
     },
     "output_type": "display_data"
    }
   ],
   "source": [
    "silhouette_method(scaled_features, 20)"
   ]
  },
  {
   "cell_type": "markdown",
   "metadata": {},
   "source": [
    "# KMeans with 4 Clusters"
   ]
  },
  {
   "cell_type": "markdown",
   "metadata": {},
   "source": [
    "Setting number of clusters to 4"
   ]
  },
  {
   "cell_type": "code",
   "execution_count": 44,
   "metadata": {},
   "outputs": [],
   "source": [
    "n_clusters = 4\n",
    "n_init = 10\n",
    "max_iter = 300\n",
    "random_state = 42\n",
    "\n",
    "kmeans = KMeans(\n",
    "    init = \"random\",\n",
    "    n_clusters = n_clusters,\n",
    "    n_init = n_init,\n",
    "    random_state = random_state)"
   ]
  },
  {
   "cell_type": "code",
   "execution_count": 45,
   "metadata": {},
   "outputs": [
    {
     "data": {
      "text/plain": [
       "KMeans(algorithm='auto', copy_x=True, init='random', max_iter=300, n_clusters=4,\n",
       "       n_init=10, n_jobs=None, precompute_distances='auto', random_state=42,\n",
       "       tol=0.0001, verbose=0)"
      ]
     },
     "execution_count": 45,
     "metadata": {},
     "output_type": "execute_result"
    }
   ],
   "source": [
    "kmeans.fit(scaled_features)"
   ]
  },
  {
   "cell_type": "code",
   "execution_count": 46,
   "metadata": {},
   "outputs": [
    {
     "data": {
      "text/plain": [
       "8947.859595076048"
      ]
     },
     "execution_count": 46,
     "metadata": {},
     "output_type": "execute_result"
    }
   ],
   "source": [
    "kmeans.inertia_"
   ]
  },
  {
   "cell_type": "markdown",
   "metadata": {},
   "source": [
    "# Results from KMeans"
   ]
  },
  {
   "cell_type": "code",
   "execution_count": 47,
   "metadata": {},
   "outputs": [],
   "source": [
    "pred = kmeans.predict(scaled_features)"
   ]
  },
  {
   "cell_type": "markdown",
   "metadata": {},
   "source": [
    "# Interpreting Results"
   ]
  },
  {
   "cell_type": "code",
   "execution_count": 53,
   "metadata": {},
   "outputs": [
    {
     "data": {
      "text/plain": [
       "13611"
      ]
     },
     "execution_count": 53,
     "metadata": {},
     "output_type": "execute_result"
    }
   ],
   "source": [
    "scaled_features.shape[0]"
   ]
  },
  {
   "cell_type": "code",
   "execution_count": 34,
   "metadata": {},
   "outputs": [],
   "source": [
    "def kmeans_visual(X, pred, centers, x1, x2, feature_names = np.array([]), scaled = True, scaler = None):\n",
    "    limit = scaled_features.shape[1]\n",
    "\n",
    "    if (x1 > limit or x2 > limit):\n",
    "        print(\"Invalid feature selected\")\n",
    "        return None\n",
    "    \n",
    "    # Changing the selected feature to column index\n",
    "    x1 = x1 - 1\n",
    "    x2 = x2 - 1\n",
    "    \n",
    "    # Whether to plot to actual scale\n",
    "    if (scaled and scaler):\n",
    "        centers = scaler.inverse_transform(centers)\n",
    "        \n",
    "    plt.figure(figsize = (12, 6))\n",
    "    \n",
    "    sns.scatterplot(x = X[:, x1].reshape(-1),y = X[:, x2].reshape(-1),hue = pred,\n",
    "                palette = sns.color_palette(\"Set2\", n_colors=len(centers)))\n",
    "\n",
    "    sns.scatterplot(centers[:, x1].reshape(-1), centers[:, x2].reshape(-1),\n",
    "                   color = 'black', s = 200, alpha = 0.5)\n",
    "    \n",
    "    if feature_names.any():\n",
    "        plt.xlabel(feature_names[x1])\n",
    "        plt.ylabel(feature_names[x2])\n",
    "        \n",
    "    plt.show()\n",
    "    \n",
    "# Interpreting the cluster centroids\n",
    "def centroid_position(centers, columns):\n",
    "    pd.set_option('display.float_format', lambda x: '%.3f' % x)\n",
    "    # pd.reset_option('display.float_format')\n",
    "    centers = pd.DataFrame(centers, columns= feature_names)\n",
    "    print(centers)"
   ]
  },
  {
   "cell_type": "code",
   "execution_count": 195,
   "metadata": {},
   "outputs": [
    {
     "data": {
      "image/png": "[encoded data removed]",
      "text/plain": [
       "<Figure size 864x432 with 1 Axes>"
      ]
     },
     "metadata": {},
     "output_type": "display_data"
    }
   ],
   "source": [
    "kmeans_visual(scaled_features, pred, kmeans.cluster_centers_, 1, 2, feature_names)"
   ]
  },
  {
   "cell_type": "code",
   "execution_count": 96,
   "metadata": {},
   "outputs": [
    {
     "data": {
      "text/plain": [
       "array([[ 1.33091958,  2.64144967],\n",
       "       [-0.17797096, -0.55323719],\n",
       "       [19.633807  ,  2.37631084],\n",
       "       [ 0.07956522,  0.81230788]])"
      ]
     },
     "execution_count": 96,
     "metadata": {},
     "output_type": "execute_result"
    }
   ],
   "source": [
    "kmeans.cluster_centers_"
   ]
  },
  {
   "cell_type": "code",
   "execution_count": 198,
   "metadata": {},
   "outputs": [],
   "source": [
    "pd.set_option('display.float_format', lambda x: '%.3f' % x)\n",
    "# pd.reset_option('display.float_format')\n",
    "centers = pd.DataFrame(data= scaler.inverse_transform(kmeans.cluster_centers_), columns= feature_names)\n",
    "\n",
    "MILLION = 1000000\n",
    "centers[\"Total Funding Amount\"] = centers[\"Total Funding Amount\"] / MILLION\n",
    "\n",
    "centers.rename(columns={'Total Funding Amount': 'Total Funding Amount (mil)'}, inplace=True)"
   ]
  },
  {
   "cell_type": "code",
   "execution_count": 196,
   "metadata": {},
   "outputs": [
    {
     "data": {
      "image/png": "[encoded data removed]",
      "text/plain": [
       "<Figure size 864x432 with 1 Axes>"
      ]
     },
     "metadata": {},
     "output_type": "display_data"
    }
   ],
   "source": [
    "kmeans_visual(scaler.inverse_transform(scaled_features), pred, scaler.inverse_transform(kmeans.cluster_centers_)\n",
    "              , 1, 2, feature_names)"
   ]
  },
  {
   "cell_type": "code",
   "execution_count": 197,
   "metadata": {},
   "outputs": [
    {
     "data": {
      "text/html": [
       "<div>\n",
       "<style scoped>\n",
       "    .dataframe tbody tr th:only-of-type {\n",
       "        vertical-align: middle;\n",
       "    }\n",
       "\n",
       "    .dataframe tbody tr th {\n",
       "        vertical-align: top;\n",
       "    }\n",
       "\n",
       "    .dataframe thead th {\n",
       "        text-align: right;\n",
       "    }\n",
       "</style>\n",
       "<table border=\"1\" class=\"dataframe\">\n",
       "  <thead>\n",
       "    <tr style=\"text-align: right;\">\n",
       "      <th></th>\n",
       "      <th>Total Funding Amount (mil)</th>\n",
       "      <th>Number of Funding Rounds</th>\n",
       "    </tr>\n",
       "  </thead>\n",
       "  <tbody>\n",
       "    <tr>\n",
       "      <th>0</th>\n",
       "      <td>115.286</td>\n",
       "      <td>6.271</td>\n",
       "    </tr>\n",
       "    <tr>\n",
       "      <th>1</th>\n",
       "      <td>12.033</td>\n",
       "      <td>1.403</td>\n",
       "    </tr>\n",
       "    <tr>\n",
       "      <th>2</th>\n",
       "      <td>1367.747</td>\n",
       "      <td>5.867</td>\n",
       "    </tr>\n",
       "    <tr>\n",
       "      <th>3</th>\n",
       "      <td>29.656</td>\n",
       "      <td>3.484</td>\n",
       "    </tr>\n",
       "  </tbody>\n",
       "</table>\n",
       "</div>"
      ],
      "text/plain": [
       "   Total Funding Amount (mil)  Number of Funding Rounds\n",
       "0                     115.286                     6.271\n",
       "1                      12.033                     1.403\n",
       "2                    1367.747                     5.867\n",
       "3                      29.656                     3.484"
      ]
     },
     "execution_count": 197,
     "metadata": {},
     "output_type": "execute_result"
    }
   ],
   "source": [
    "centers"
   ]
  },
  {
   "cell_type": "markdown",
   "metadata": {},
   "source": [
    "There seems to be 4 clusters. With 3 clusters raising relatively lower amounts and 1 cluster with very high investments. Among the 3 clusters with lower amounts raised, they have different number of funding rounds of 1.4, 3.4 and 6.27."
   ]
  },
  {
   "cell_type": "code",
   "execution_count": null,
   "metadata": {},
   "outputs": [],
   "source": []
  },
  {
   "cell_type": "code",
   "execution_count": 70,
   "metadata": {},
   "outputs": [],
   "source": [
    "results = pd.DataFrame(data = kmeans.cluster_centers_, columns= feature_names)"
   ]
  },
  {
   "cell_type": "code",
   "execution_count": 71,
   "metadata": {},
   "outputs": [
    {
     "data": {
      "text/html": [
       "<div>\n",
       "<style scoped>\n",
       "    .dataframe tbody tr th:only-of-type {\n",
       "        vertical-align: middle;\n",
       "    }\n",
       "\n",
       "    .dataframe tbody tr th {\n",
       "        vertical-align: top;\n",
       "    }\n",
       "\n",
       "    .dataframe thead th {\n",
       "        text-align: right;\n",
       "    }\n",
       "</style>\n",
       "<table border=\"1\" class=\"dataframe\">\n",
       "  <thead>\n",
       "    <tr style=\"text-align: right;\">\n",
       "      <th></th>\n",
       "      <th>Total Funding Amount</th>\n",
       "      <th>Number of Funding Rounds</th>\n",
       "    </tr>\n",
       "  </thead>\n",
       "  <tbody>\n",
       "    <tr>\n",
       "      <th>0</th>\n",
       "      <td>1.330920</td>\n",
       "      <td>2.641450</td>\n",
       "    </tr>\n",
       "    <tr>\n",
       "      <th>1</th>\n",
       "      <td>-0.177971</td>\n",
       "      <td>-0.553237</td>\n",
       "    </tr>\n",
       "    <tr>\n",
       "      <th>2</th>\n",
       "      <td>19.633807</td>\n",
       "      <td>2.376311</td>\n",
       "    </tr>\n",
       "    <tr>\n",
       "      <th>3</th>\n",
       "      <td>0.079565</td>\n",
       "      <td>0.812308</td>\n",
       "    </tr>\n",
       "  </tbody>\n",
       "</table>\n",
       "</div>"
      ],
      "text/plain": [
       "   Total Funding Amount  Number of Funding Rounds\n",
       "0              1.330920                  2.641450\n",
       "1             -0.177971                 -0.553237\n",
       "2             19.633807                  2.376311\n",
       "3              0.079565                  0.812308"
      ]
     },
     "execution_count": 71,
     "metadata": {},
     "output_type": "execute_result"
    }
   ],
   "source": [
    "results"
   ]
  },
  {
   "cell_type": "code",
   "execution_count": null,
   "metadata": {},
   "outputs": [],
   "source": []
  },
  {
   "cell_type": "markdown",
   "metadata": {},
   "source": [
    "# KMeans with 5 Clusters"
   ]
  },
  {
   "cell_type": "markdown",
   "metadata": {},
   "source": [
    "Setting number of clusters to 5"
   ]
  },
  {
   "cell_type": "code",
   "execution_count": 14,
   "metadata": {},
   "outputs": [],
   "source": [
    "n_clusters = 5\n",
    "n_init = 10\n",
    "max_iter = 300\n",
    "random_state = 42\n",
    "\n",
    "kmeans = KMeans(\n",
    "    init = \"random\",\n",
    "    n_clusters = n_clusters,\n",
    "    n_init = n_init,\n",
    "    random_state = random_state)"
   ]
  },
  {
   "cell_type": "code",
   "execution_count": 15,
   "metadata": {},
   "outputs": [
    {
     "data": {
      "text/plain": [
       "KMeans(algorithm='auto', copy_x=True, init='random', max_iter=300, n_clusters=5,\n",
       "       n_init=10, n_jobs=None, precompute_distances='auto', random_state=42,\n",
       "       tol=0.0001, verbose=0)"
      ]
     },
     "execution_count": 15,
     "metadata": {},
     "output_type": "execute_result"
    }
   ],
   "source": [
    "kmeans.fit(scaled_features)"
   ]
  },
  {
   "cell_type": "code",
   "execution_count": 16,
   "metadata": {},
   "outputs": [
    {
     "data": {
      "text/plain": [
       "7598.375650802805"
      ]
     },
     "execution_count": 16,
     "metadata": {},
     "output_type": "execute_result"
    }
   ],
   "source": [
    "kmeans.inertia_"
   ]
  },
  {
   "cell_type": "markdown",
   "metadata": {},
   "source": [
    "# Results from KMeans"
   ]
  },
  {
   "cell_type": "code",
   "execution_count": 17,
   "metadata": {},
   "outputs": [],
   "source": [
    "pred = kmeans.predict(scaled_features)"
   ]
  },
  {
   "cell_type": "code",
   "execution_count": 29,
   "metadata": {},
   "outputs": [
    {
     "data": {
      "image/png": "[encoded data removed]",
      "text/plain": [
       "<Figure size 864x432 with 1 Axes>"
      ]
     },
     "metadata": {},
     "output_type": "display_data"
    }
   ],
   "source": [
    "kmeans_visual(scaled_features, pred, kmeans.cluster_centers_, 1, 2, feature_names)"
   ]
  },
  {
   "cell_type": "code",
   "execution_count": 21,
   "metadata": {},
   "outputs": [
    {
     "data": {
      "text/plain": [
       "array([[-0.06797203,  0.08075413],\n",
       "       [ 3.56330029,  2.1788829 ],\n",
       "       [-0.21273867, -0.81775313],\n",
       "       [ 0.27037488,  1.72897985],\n",
       "       [20.29010846,  2.60445826]])"
      ]
     },
     "execution_count": 21,
     "metadata": {},
     "output_type": "execute_result"
    }
   ],
   "source": [
    "kmeans.cluster_centers_"
   ]
  },
  {
   "cell_type": "code",
   "execution_count": 22,
   "metadata": {},
   "outputs": [],
   "source": [
    "pd.set_option('display.float_format', lambda x: '%.3f' % x)\n",
    "# pd.reset_option('display.float_format')\n",
    "centers = pd.DataFrame(data= scaler.inverse_transform(kmeans.cluster_centers_), columns= feature_names)\n",
    "\n",
    "MILLION = 1000000\n",
    "centers[\"Total Funding Amount\"] = centers[\"Total Funding Amount\"] / MILLION\n",
    "\n",
    "centers.rename(columns={'Total Funding Amount': 'Total Funding Amount (mil)'}, inplace=True)"
   ]
  },
  {
   "cell_type": "code",
   "execution_count": 30,
   "metadata": {},
   "outputs": [
    {
     "data": {
      "image/png": "[encoded data removed]",
      "text/plain": [
       "<Figure size 864x432 with 1 Axes>"
      ]
     },
     "metadata": {},
     "output_type": "display_data"
    }
   ],
   "source": [
    "kmeans_visual(scaler.inverse_transform(scaled_features), pred, scaler.inverse_transform(kmeans.cluster_centers_)\n",
    "              , 1, 2, feature_names)"
   ]
  },
  {
   "cell_type": "code",
   "execution_count": 24,
   "metadata": {},
   "outputs": [
    {
     "data": {
      "text/html": [
       "<div>\n",
       "<style scoped>\n",
       "    .dataframe tbody tr th:only-of-type {\n",
       "        vertical-align: middle;\n",
       "    }\n",
       "\n",
       "    .dataframe tbody tr th {\n",
       "        vertical-align: top;\n",
       "    }\n",
       "\n",
       "    .dataframe thead th {\n",
       "        text-align: right;\n",
       "    }\n",
       "</style>\n",
       "<table border=\"1\" class=\"dataframe\">\n",
       "  <thead>\n",
       "    <tr style=\"text-align: right;\">\n",
       "      <th></th>\n",
       "      <th>Total Funding Amount (mil)</th>\n",
       "      <th>Number of Funding Rounds</th>\n",
       "    </tr>\n",
       "  </thead>\n",
       "  <tbody>\n",
       "    <tr>\n",
       "      <th>0</th>\n",
       "      <td>19.560</td>\n",
       "      <td>2.369</td>\n",
       "    </tr>\n",
       "    <tr>\n",
       "      <th>1</th>\n",
       "      <td>268.047</td>\n",
       "      <td>5.566</td>\n",
       "    </tr>\n",
       "    <tr>\n",
       "      <th>2</th>\n",
       "      <td>9.654</td>\n",
       "      <td>1.000</td>\n",
       "    </tr>\n",
       "    <tr>\n",
       "      <th>3</th>\n",
       "      <td>42.713</td>\n",
       "      <td>4.880</td>\n",
       "    </tr>\n",
       "    <tr>\n",
       "      <th>4</th>\n",
       "      <td>1412.658</td>\n",
       "      <td>6.214</td>\n",
       "    </tr>\n",
       "  </tbody>\n",
       "</table>\n",
       "</div>"
      ],
      "text/plain": [
       "   Total Funding Amount (mil)  Number of Funding Rounds\n",
       "0                      19.560                     2.369\n",
       "1                     268.047                     5.566\n",
       "2                       9.654                     1.000\n",
       "3                      42.713                     4.880\n",
       "4                    1412.658                     6.214"
      ]
     },
     "execution_count": 24,
     "metadata": {},
     "output_type": "execute_result"
    }
   ],
   "source": [
    "centers"
   ]
  },
  {
   "cell_type": "markdown",
   "metadata": {},
   "source": [
    "# Comparing KMeans with Cluster 4 - 7"
   ]
  },
  {
   "cell_type": "markdown",
   "metadata": {},
   "source": [
    "Setting number of clusters to 4, 5, 6 and 7"
   ]
  },
  {
   "cell_type": "code",
   "execution_count": 14,
   "metadata": {},
   "outputs": [],
   "source": [
    "# n_clusters = 4\n",
    "n_init = 10\n",
    "max_iter = 300\n",
    "random_state = 42\n",
    "\n",
    "# Setting 4 clusters\n",
    "kmeans4 = KMeans(\n",
    "    init = \"random\",\n",
    "    n_clusters = 4,\n",
    "    n_init = n_init,\n",
    "    random_state = random_state)\n",
    "\n",
    "# Setting 5 clusters\n",
    "kmeans5 = KMeans(\n",
    "    init = \"random\",\n",
    "    n_clusters = 5,\n",
    "    n_init = n_init,\n",
    "    random_state = random_state)\n",
    "\n",
    "# Setting 6 clusters\n",
    "kmeans6 = KMeans(\n",
    "    init = \"random\",\n",
    "    n_clusters = 6,\n",
    "    n_init = n_init,\n",
    "    random_state = random_state)\n",
    "\n",
    "# Setting 7 clusters\n",
    "kmeans7 = KMeans(\n",
    "    init = \"random\",\n",
    "    n_clusters = 7,\n",
    "    n_init = n_init,\n",
    "    random_state = random_state)\n"
   ]
  },
  {
   "cell_type": "code",
   "execution_count": null,
   "metadata": {},
   "outputs": [],
   "source": [
    "models = [kmeans4, kmeans5, kmeans6, kmeans7]"
   ]
  },
  {
   "cell_type": "code",
   "execution_count": 25,
   "metadata": {},
   "outputs": [],
   "source": [
    "for model in models:\n",
    "    model.fit(scaled_features)"
   ]
  },
  {
   "cell_type": "code",
   "execution_count": 26,
   "metadata": {},
   "outputs": [
    {
     "name": "stdout",
     "output_type": "stream",
     "text": [
      "8947.859595076048\n",
      "7598.375650802805\n",
      "5230.701199813408\n",
      "3913.34237225714\n"
     ]
    }
   ],
   "source": [
    "for model in models:\n",
    "    print(model.inertia_)"
   ]
  },
  {
   "cell_type": "code",
   "execution_count": 43,
   "metadata": {},
   "outputs": [],
   "source": [
    "# Prediction from models\n",
    "\n",
    "model_predictions = []\n",
    "\n",
    "for model in models:\n",
    "    pred = model.predict(scaled_features)\n",
    "    model_predictions.append(pred)"
   ]
  },
  {
   "cell_type": "markdown",
   "metadata": {},
   "source": [
    "## Visualisation of KMeans with Clusters 4 - 7"
   ]
  },
  {
   "cell_type": "code",
   "execution_count": 56,
   "metadata": {},
   "outputs": [],
   "source": [
    "plotting_features = kmeans_features"
   ]
  },
  {
   "cell_type": "code",
   "execution_count": 58,
   "metadata": {},
   "outputs": [
    {
     "data": {
      "text/html": [
       "<div>\n",
       "<style scoped>\n",
       "    .dataframe tbody tr th:only-of-type {\n",
       "        vertical-align: middle;\n",
       "    }\n",
       "\n",
       "    .dataframe tbody tr th {\n",
       "        vertical-align: top;\n",
       "    }\n",
       "\n",
       "    .dataframe thead th {\n",
       "        text-align: right;\n",
       "    }\n",
       "</style>\n",
       "<table border=\"1\" class=\"dataframe\">\n",
       "  <thead>\n",
       "    <tr style=\"text-align: right;\">\n",
       "      <th></th>\n",
       "      <th>Total Funding Amount</th>\n",
       "      <th>Number of Funding Rounds</th>\n",
       "    </tr>\n",
       "  </thead>\n",
       "  <tbody>\n",
       "    <tr>\n",
       "      <th>0</th>\n",
       "      <td>10000000.000</td>\n",
       "      <td>1.000</td>\n",
       "    </tr>\n",
       "    <tr>\n",
       "      <th>1</th>\n",
       "      <td>700000.000</td>\n",
       "      <td>2.000</td>\n",
       "    </tr>\n",
       "    <tr>\n",
       "      <th>2</th>\n",
       "      <td>3406878.000</td>\n",
       "      <td>1.000</td>\n",
       "    </tr>\n",
       "    <tr>\n",
       "      <th>3</th>\n",
       "      <td>2000000.000</td>\n",
       "      <td>1.000</td>\n",
       "    </tr>\n",
       "    <tr>\n",
       "      <th>7</th>\n",
       "      <td>33600000.000</td>\n",
       "      <td>4.000</td>\n",
       "    </tr>\n",
       "    <tr>\n",
       "      <th>...</th>\n",
       "      <td>...</td>\n",
       "      <td>...</td>\n",
       "    </tr>\n",
       "    <tr>\n",
       "      <th>66353</th>\n",
       "      <td>25000000.000</td>\n",
       "      <td>1.000</td>\n",
       "    </tr>\n",
       "    <tr>\n",
       "      <th>66354</th>\n",
       "      <td>14750000.000</td>\n",
       "      <td>4.000</td>\n",
       "    </tr>\n",
       "    <tr>\n",
       "      <th>66360</th>\n",
       "      <td>8500000.000</td>\n",
       "      <td>1.000</td>\n",
       "    </tr>\n",
       "    <tr>\n",
       "      <th>66361</th>\n",
       "      <td>2686600.000</td>\n",
       "      <td>1.000</td>\n",
       "    </tr>\n",
       "    <tr>\n",
       "      <th>66363</th>\n",
       "      <td>1587301.000</td>\n",
       "      <td>1.000</td>\n",
       "    </tr>\n",
       "  </tbody>\n",
       "</table>\n",
       "<p>13611 rows × 2 columns</p>\n",
       "</div>"
      ],
      "text/plain": [
       "       Total Funding Amount  Number of Funding Rounds\n",
       "0              10000000.000                     1.000\n",
       "1                700000.000                     2.000\n",
       "2               3406878.000                     1.000\n",
       "3               2000000.000                     1.000\n",
       "7              33600000.000                     4.000\n",
       "...                     ...                       ...\n",
       "66353          25000000.000                     1.000\n",
       "66354          14750000.000                     4.000\n",
       "66360           8500000.000                     1.000\n",
       "66361           2686600.000                     1.000\n",
       "66363           1587301.000                     1.000\n",
       "\n",
       "[13611 rows x 2 columns]"
      ]
     },
     "execution_count": 58,
     "metadata": {},
     "output_type": "execute_result"
    }
   ],
   "source": [
    "plotting_features"
   ]
  },
  {
   "cell_type": "code",
   "execution_count": 60,
   "metadata": {},
   "outputs": [],
   "source": [
    "MILLION = 1000000\n",
    "\n",
    "plotting_features[\"Total Funding Amount\"] = plotting_features[\"Total Funding Amount\"] / MILLION"
   ]
  },
  {
   "cell_type": "code",
   "execution_count": 61,
   "metadata": {},
   "outputs": [
    {
     "data": {
      "text/html": [
       "<div>\n",
       "<style scoped>\n",
       "    .dataframe tbody tr th:only-of-type {\n",
       "        vertical-align: middle;\n",
       "    }\n",
       "\n",
       "    .dataframe tbody tr th {\n",
       "        vertical-align: top;\n",
       "    }\n",
       "\n",
       "    .dataframe thead th {\n",
       "        text-align: right;\n",
       "    }\n",
       "</style>\n",
       "<table border=\"1\" class=\"dataframe\">\n",
       "  <thead>\n",
       "    <tr style=\"text-align: right;\">\n",
       "      <th></th>\n",
       "      <th>Total Funding Amount</th>\n",
       "      <th>Number of Funding Rounds</th>\n",
       "    </tr>\n",
       "  </thead>\n",
       "  <tbody>\n",
       "    <tr>\n",
       "      <th>0</th>\n",
       "      <td>10.000</td>\n",
       "      <td>1.000</td>\n",
       "    </tr>\n",
       "    <tr>\n",
       "      <th>1</th>\n",
       "      <td>0.700</td>\n",
       "      <td>2.000</td>\n",
       "    </tr>\n",
       "    <tr>\n",
       "      <th>2</th>\n",
       "      <td>3.407</td>\n",
       "      <td>1.000</td>\n",
       "    </tr>\n",
       "    <tr>\n",
       "      <th>3</th>\n",
       "      <td>2.000</td>\n",
       "      <td>1.000</td>\n",
       "    </tr>\n",
       "    <tr>\n",
       "      <th>7</th>\n",
       "      <td>33.600</td>\n",
       "      <td>4.000</td>\n",
       "    </tr>\n",
       "    <tr>\n",
       "      <th>...</th>\n",
       "      <td>...</td>\n",
       "      <td>...</td>\n",
       "    </tr>\n",
       "    <tr>\n",
       "      <th>66353</th>\n",
       "      <td>25.000</td>\n",
       "      <td>1.000</td>\n",
       "    </tr>\n",
       "    <tr>\n",
       "      <th>66354</th>\n",
       "      <td>14.750</td>\n",
       "      <td>4.000</td>\n",
       "    </tr>\n",
       "    <tr>\n",
       "      <th>66360</th>\n",
       "      <td>8.500</td>\n",
       "      <td>1.000</td>\n",
       "    </tr>\n",
       "    <tr>\n",
       "      <th>66361</th>\n",
       "      <td>2.687</td>\n",
       "      <td>1.000</td>\n",
       "    </tr>\n",
       "    <tr>\n",
       "      <th>66363</th>\n",
       "      <td>1.587</td>\n",
       "      <td>1.000</td>\n",
       "    </tr>\n",
       "  </tbody>\n",
       "</table>\n",
       "<p>13611 rows × 2 columns</p>\n",
       "</div>"
      ],
      "text/plain": [
       "       Total Funding Amount  Number of Funding Rounds\n",
       "0                    10.000                     1.000\n",
       "1                     0.700                     2.000\n",
       "2                     3.407                     1.000\n",
       "3                     2.000                     1.000\n",
       "7                    33.600                     4.000\n",
       "...                     ...                       ...\n",
       "66353                25.000                     1.000\n",
       "66354                14.750                     4.000\n",
       "66360                 8.500                     1.000\n",
       "66361                 2.687                     1.000\n",
       "66363                 1.587                     1.000\n",
       "\n",
       "[13611 rows x 2 columns]"
      ]
     },
     "execution_count": 61,
     "metadata": {},
     "output_type": "execute_result"
    }
   ],
   "source": [
    "plotting_features"
   ]
  },
  {
   "cell_type": "code",
   "execution_count": 84,
   "metadata": {},
   "outputs": [],
   "source": [
    "# Scaling the model centres to be in MILLIONS\n",
    "model_centres = []\n",
    "\n",
    "for model in models:\n",
    "    centres = scaler.inverse_transform(model.cluster_centers_)\n",
    "    centres[:,0]  = centres[:, 0] / MILLION\n",
    "    model_centres.append(centres)"
   ]
  },
  {
   "cell_type": "code",
   "execution_count": 78,
   "metadata": {},
   "outputs": [],
   "source": [
    "pd.set_option('display.float_format', lambda x: '%.3f' % x)\n",
    "# pd.reset_option('display.float_format')\n",
    "\n",
    "# Packaging model, their respective predictions and their centres\n",
    "\n",
    "collection = models.copy()\n",
    "\n",
    "for i in range(len(model_predictions)):\n",
    "    collection[i] = [collection[i], model_predictions[i], model_centres[i]]"
   ]
  },
  {
   "cell_type": "code",
   "execution_count": 88,
   "metadata": {},
   "outputs": [
    {
     "name": "stdout",
     "output_type": "stream",
     "text": [
      "Scatterplot with 4 clusters\n"
     ]
    },
    {
     "data": {
      "image/png": "[encoded data removed]",
      "text/plain": [
       "<Figure size 864x432 with 1 Axes>"
      ]
     },
     "metadata": {
      "needs_background": "light"
     },
     "output_type": "display_data"
    },
    {
     "name": "stdout",
     "output_type": "stream",
     "text": [
      "Scatterplot with 5 clusters\n"
     ]
    },
    {
     "data": {
      "image/png": "[encoded data removed]",
      "text/plain": [
       "<Figure size 864x432 with 1 Axes>"
      ]
     },
     "metadata": {
      "needs_background": "light"
     },
     "output_type": "display_data"
    },
    {
     "name": "stdout",
     "output_type": "stream",
     "text": [
      "Scatterplot with 6 clusters\n"
     ]
    },
    {
     "data": {
      "image/png": "[encoded data removed]",
      "text/plain": [
       "<Figure size 864x432 with 1 Axes>"
      ]
     },
     "metadata": {
      "needs_background": "light"
     },
     "output_type": "display_data"
    },
    {
     "name": "stdout",
     "output_type": "stream",
     "text": [
      "Scatterplot with 7 clusters\n"
     ]
    },
    {
     "data": {
      "image/png": "[encoded data removed]",
      "text/plain": [
       "<Figure size 864x432 with 1 Axes>"
      ]
     },
     "metadata": {
      "needs_background": "light"
     },
     "output_type": "display_data"
    }
   ],
   "source": [
    "# Plotting scatterplot for KMeans with Clusters 4 - 7\n",
    "numCluster = 4\n",
    "\n",
    "for model, pred, centres in collection:\n",
    "    i = 0\n",
    "    print('Scatterplot with ' + str(numCluster) + \" clusters\")\n",
    "    kmeans_visual(plotting_features.values, pred, centres, 1, 2, feature_names)\n",
    "\n",
    "    numCluster += 1"
   ]
  },
  {
   "cell_type": "markdown",
   "metadata": {},
   "source": [
    "## Displaying Cluster Centers Location"
   ]
  },
  {
   "cell_type": "code",
   "execution_count": 42,
   "metadata": {},
   "outputs": [
    {
     "name": "stdout",
     "output_type": "stream",
     "text": [
      "Scatterplot with 4 clusters\n",
      "   Total Funding Amount (mil)  Number of Funding Rounds\n",
      "0                     115.286                     6.271\n",
      "1                      12.033                     1.403\n",
      "2                    1367.747                     5.867\n",
      "3                      29.656                     3.484\n",
      "\n",
      "\n",
      "Scatterplot with 5 clusters\n",
      "   Total Funding Amount (mil)  Number of Funding Rounds\n",
      "0                      19.560                     2.369\n",
      "1                     268.047                     5.566\n",
      "2                       9.654                     1.000\n",
      "3                      42.713                     4.880\n",
      "4                    1412.658                     6.214\n",
      "\n",
      "\n",
      "Scatterplot with 6 clusters\n",
      "   Total Funding Amount (mil)  Number of Funding Rounds\n",
      "0                     101.762                     6.224\n",
      "1                      16.636                     1.997\n",
      "2                    4715.000                     2.000\n",
      "3                      28.675                     3.478\n",
      "4                       9.525                     1.000\n",
      "5                     781.605                     6.294\n",
      "\n",
      "\n",
      "Scatterplot with 7 clusters\n",
      "   Total Funding Amount (mil)  Number of Funding Rounds\n",
      "0                      28.839                     3.328\n",
      "1                     275.705                     5.011\n",
      "2                       9.584                     1.000\n",
      "3                      15.729                     1.999\n",
      "4                      54.590                     5.956\n",
      "5                    1074.474                     6.062\n",
      "6                    4715.000                     2.000\n",
      "\n",
      "\n"
     ]
    }
   ],
   "source": [
    "MILLION = 1000000\n",
    "\n",
    "numCluster = 4\n",
    "\n",
    "for model, pred in collection:\n",
    "    \n",
    "    print('Scatterplot with ' + str(numCluster) + \" clusters\")\n",
    "\n",
    "\n",
    "    centers = pd.DataFrame(data= scaler.inverse_transform(model.cluster_centers_), columns= feature_names)\n",
    "    \n",
    "    centers[\"Total Funding Amount\"] = centers[\"Total Funding Amount\"] / MILLION\n",
    "\n",
    "    centers.rename(columns={'Total Funding Amount': 'Total Funding Amount (mil)'}, inplace=True)\n",
    "    \n",
    "    print(centers)\n",
    "    print(\"\\n\")\n",
    "    \n",
    "    numCluster += 1"
   ]
  },
  {
   "cell_type": "code",
   "execution_count": null,
   "metadata": {},
   "outputs": [],
   "source": []
  },
  {
   "cell_type": "code",
   "execution_count": null,
   "metadata": {},
   "outputs": [],
   "source": []
  },
  {
   "cell_type": "code",
   "execution_count": null,
   "metadata": {},
   "outputs": [],
   "source": []
  },
  {
   "cell_type": "code",
   "execution_count": null,
   "metadata": {},
   "outputs": [],
   "source": []
  },
  {
   "cell_type": "code",
   "execution_count": null,
   "metadata": {},
   "outputs": [],
   "source": []
  },
  {
   "cell_type": "markdown",
   "metadata": {},
   "source": [
    "### Rough Workings"
   ]
  },
  {
   "cell_type": "code",
   "execution_count": 113,
   "metadata": {},
   "outputs": [
    {
     "data": {
      "text/plain": [
       "<matplotlib.axes._subplots.AxesSubplot at 0x7faba8c28a20>"
      ]
     },
     "execution_count": 113,
     "metadata": {},
     "output_type": "execute_result"
    },
    {
     "data": {
      "image/png": "[encoded data removed]",
      "text/plain": [
       "<Figure size 432x288 with 1 Axes>"
      ]
     },
     "metadata": {},
     "output_type": "display_data"
    }
   ],
   "source": [
    "centers = scaler.inverse_transform(kmeans.cluster_centers_)\n",
    "\n",
    "sns.scatterplot(x=\"Total Funding Amount\",y=\"Number of Funding Rounds\",data=test1,hue='Cluster',\n",
    "                palette=sns.color_palette(\"Set2\", n_colors=4))\n",
    "\n",
    "sns.scatterplot(centers[:, 0].reshape(-1), centers[:, 1].reshape(-1),\n",
    "                   color = 'black', s = 200, alpha = 0.5)"
   ]
  },
  {
   "cell_type": "code",
   "execution_count": 148,
   "metadata": {},
   "outputs": [],
   "source": [
    "pd.set_option('display.float_format', lambda x: '%.3f' % x)\n",
    "# pd.reset_option('display.float_format')\n",
    "centers = pd.DataFrame(data= scaler.inverse_transform(kmeans.cluster_centers_), columns= feature_names)"
   ]
  },
  {
   "cell_type": "code",
   "execution_count": 149,
   "metadata": {},
   "outputs": [],
   "source": [
    "MILLION = 1000000\n",
    "centers[\"Total Funding Amount\"] = centers[\"Total Funding Amount\"] / MILLION"
   ]
  },
  {
   "cell_type": "code",
   "execution_count": 150,
   "metadata": {},
   "outputs": [],
   "source": [
    "centers.rename(columns={'Total Funding Amount': 'Total Funding Amount (mil)'}, inplace=True)"
   ]
  },
  {
   "cell_type": "code",
   "execution_count": 151,
   "metadata": {},
   "outputs": [
    {
     "data": {
      "text/html": [
       "<div>\n",
       "<style scoped>\n",
       "    .dataframe tbody tr th:only-of-type {\n",
       "        vertical-align: middle;\n",
       "    }\n",
       "\n",
       "    .dataframe tbody tr th {\n",
       "        vertical-align: top;\n",
       "    }\n",
       "\n",
       "    .dataframe thead th {\n",
       "        text-align: right;\n",
       "    }\n",
       "</style>\n",
       "<table border=\"1\" class=\"dataframe\">\n",
       "  <thead>\n",
       "    <tr style=\"text-align: right;\">\n",
       "      <th></th>\n",
       "      <th>Total Funding Amount (mil)</th>\n",
       "      <th>Number of Funding Rounds</th>\n",
       "    </tr>\n",
       "  </thead>\n",
       "  <tbody>\n",
       "    <tr>\n",
       "      <th>0</th>\n",
       "      <td>115.286</td>\n",
       "      <td>6.271</td>\n",
       "    </tr>\n",
       "    <tr>\n",
       "      <th>1</th>\n",
       "      <td>12.033</td>\n",
       "      <td>1.403</td>\n",
       "    </tr>\n",
       "    <tr>\n",
       "      <th>2</th>\n",
       "      <td>1367.747</td>\n",
       "      <td>5.867</td>\n",
       "    </tr>\n",
       "    <tr>\n",
       "      <th>3</th>\n",
       "      <td>29.656</td>\n",
       "      <td>3.484</td>\n",
       "    </tr>\n",
       "  </tbody>\n",
       "</table>\n",
       "</div>"
      ],
      "text/plain": [
       "   Total Funding Amount (mil)  Number of Funding Rounds\n",
       "0                     115.286                     6.271\n",
       "1                      12.033                     1.403\n",
       "2                    1367.747                     5.867\n",
       "3                      29.656                     3.484"
      ]
     },
     "execution_count": 151,
     "metadata": {},
     "output_type": "execute_result"
    }
   ],
   "source": [
    "centers"
   ]
  },
  {
   "cell_type": "code",
   "execution_count": 70,
   "metadata": {},
   "outputs": [],
   "source": [
    "results = pd.DataFrame(data = kmeans.cluster_centers_, columns= feature_names)"
   ]
  },
  {
   "cell_type": "code",
   "execution_count": 71,
   "metadata": {},
   "outputs": [
    {
     "data": {
      "text/html": [
       "<div>\n",
       "<style scoped>\n",
       "    .dataframe tbody tr th:only-of-type {\n",
       "        vertical-align: middle;\n",
       "    }\n",
       "\n",
       "    .dataframe tbody tr th {\n",
       "        vertical-align: top;\n",
       "    }\n",
       "\n",
       "    .dataframe thead th {\n",
       "        text-align: right;\n",
       "    }\n",
       "</style>\n",
       "<table border=\"1\" class=\"dataframe\">\n",
       "  <thead>\n",
       "    <tr style=\"text-align: right;\">\n",
       "      <th></th>\n",
       "      <th>Total Funding Amount</th>\n",
       "      <th>Number of Funding Rounds</th>\n",
       "    </tr>\n",
       "  </thead>\n",
       "  <tbody>\n",
       "    <tr>\n",
       "      <th>0</th>\n",
       "      <td>1.330920</td>\n",
       "      <td>2.641450</td>\n",
       "    </tr>\n",
       "    <tr>\n",
       "      <th>1</th>\n",
       "      <td>-0.177971</td>\n",
       "      <td>-0.553237</td>\n",
       "    </tr>\n",
       "    <tr>\n",
       "      <th>2</th>\n",
       "      <td>19.633807</td>\n",
       "      <td>2.376311</td>\n",
       "    </tr>\n",
       "    <tr>\n",
       "      <th>3</th>\n",
       "      <td>0.079565</td>\n",
       "      <td>0.812308</td>\n",
       "    </tr>\n",
       "  </tbody>\n",
       "</table>\n",
       "</div>"
      ],
      "text/plain": [
       "   Total Funding Amount  Number of Funding Rounds\n",
       "0              1.330920                  2.641450\n",
       "1             -0.177971                 -0.553237\n",
       "2             19.633807                  2.376311\n",
       "3              0.079565                  0.812308"
      ]
     },
     "execution_count": 71,
     "metadata": {},
     "output_type": "execute_result"
    }
   ],
   "source": [
    "results"
   ]
  },
  {
   "cell_type": "code",
   "execution_count": null,
   "metadata": {},
   "outputs": [],
   "source": []
  },
  {
   "cell_type": "code",
   "execution_count": null,
   "metadata": {},
   "outputs": [],
   "source": []
  },
  {
   "cell_type": "code",
   "execution_count": null,
   "metadata": {},
   "outputs": [],
   "source": []
  },
  {
   "cell_type": "code",
   "execution_count": null,
   "metadata": {},
   "outputs": [],
   "source": []
  }
 ],
 "metadata": {
  "kernelspec": {
   "display_name": "Python 3",
   "language": "python",
   "name": "python3"
  },
  "language_info": {
   "codemirror_mode": {
    "name": "ipython",
    "version": 3
   },
   "file_extension": ".py",
   "mimetype": "text/x-python",
   "name": "python",
   "nbconvert_exporter": "python",
   "pygments_lexer": "ipython3",
   "version": "3.7.2"
  }
 },
 "nbformat": 4,
 "nbformat_minor": 2
}
