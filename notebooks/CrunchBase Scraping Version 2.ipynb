{
 "cells": [
  {
   "cell_type": "code",
   "execution_count": 3,
   "metadata": {},
   "outputs": [],
   "source": [
    "from selenium import webdriver\n",
    "from helium import *\n",
    "import pandas as pd"
   ]
  },
  {
   "cell_type": "markdown",
   "metadata": {},
   "source": [
    "scrape name and link"
   ]
  },
  {
   "cell_type": "markdown",
   "metadata": {},
   "source": [
    "crunchbase sort by organisation every 5 (15 for pro)"
   ]
  },
  {
   "cell_type": "code",
   "execution_count": 19,
   "metadata": {},
   "outputs": [],
   "source": [
    "all_names = []\n",
    "all_links = []"
   ]
  },
  {
   "cell_type": "code",
   "execution_count": 20,
   "metadata": {},
   "outputs": [],
   "source": [
    "class CrunchBaseScrapper_v2:\n",
    "    def __init__(self, headless=False):\n",
    "        self.driver = start_chrome(headless=False)\n",
    "    \n",
    "    def go_company_ranking(self, ranking):\n",
    "        go_to(f\"https://www.crunchbase.com/search/organization.companies/field/organizations/rank_org_company/{ranking}\")\n",
    "\n",
    "    def collect_link(self):\n",
    "        name_list = [cell.web_element.text for cell in find_all(S(\"div > grid-row > grid-cell > div > field-formatter > identifier-formatter > a\", below=\"Organization Name\"))]\n",
    "        link_list = [cell.web_element.get_attribute(\"href\") for cell in find_all(S(\"div > grid-row > grid-cell > div > field-formatter > identifier-formatter > a\", below=\"Organization Name\"))]\n",
    "        for name in name_list:\n",
    "            all_names.append(name)\n",
    "        for link in link_list:\n",
    "            all_links.append(link)\n",
    "\n",
    "cbs = CrunchBaseScrapper_v2()"
   ]
  },
  {
   "cell_type": "code",
   "execution_count": 21,
   "metadata": {},
   "outputs": [],
   "source": [
    "# loop through the companies\n",
    "for i in range(0, 30, 16):\n",
    "    cbs.go_company_ranking(i)\n",
    "    cbs.collect_link()\n",
    "    \n",
    "#     kill_browser()\n",
    "#     pause(10s)"
   ]
  },
  {
   "cell_type": "code",
   "execution_count": 22,
   "metadata": {},
   "outputs": [
    {
     "name": "stdout",
     "output_type": "stream",
     "text": [
      "['Apollo', 'Ant Group', 'Square', 'Citi', 'Zoom', 'NVIDIA', 'SoftBank', 'Twilio', 'Deliveroo', 'Plaid', 'Facebook', 'Calendly', 'Goldman Sachs', 'The Honest Company', 'Tencent', 'UpGrad', 'Drift', 'Meituan', 'Alibaba Group', 'ConsenSys', 'Ada', 'OurCrowd', 'MasterClass', 'Reddit', 'Apple', 'Ripple', 'Dapper Labs', 'Twitch', 'Upsie', 'NYDIG']\n"
     ]
    }
   ],
   "source": [
    "print(all_names)"
   ]
  },
  {
   "cell_type": "code",
   "execution_count": 23,
   "metadata": {},
   "outputs": [
    {
     "name": "stdout",
     "output_type": "stream",
     "text": [
      "['https://www.crunchbase.com/organization/apollo-global-management-llc', 'https://www.crunchbase.com/organization/ant-group', 'https://www.crunchbase.com/organization/square', 'https://www.crunchbase.com/organization/citigroup', 'https://www.crunchbase.com/organization/zoom-video-communications', 'https://www.crunchbase.com/organization/nvidia', 'https://www.crunchbase.com/organization/softbank', 'https://www.crunchbase.com/organization/twilio', 'https://www.crunchbase.com/organization/deliveroo', 'https://www.crunchbase.com/organization/plaid', 'https://www.crunchbase.com/organization/facebook', 'https://www.crunchbase.com/organization/calendly', 'https://www.crunchbase.com/organization/goldman-sachs', 'https://www.crunchbase.com/organization/the-honest-company', 'https://www.crunchbase.com/organization/tencent', 'https://www.crunchbase.com/organization/upgrad', 'https://www.crunchbase.com/organization/drift', 'https://www.crunchbase.com/organization/meituan', 'https://www.crunchbase.com/organization/alibaba', 'https://www.crunchbase.com/organization/consensus-systems', 'https://www.crunchbase.com/organization/ada-support', 'https://www.crunchbase.com/organization/ourcrowd', 'https://www.crunchbase.com/organization/masterclass', 'https://www.crunchbase.com/organization/reddit', 'https://www.crunchbase.com/organization/apple', 'https://www.crunchbase.com/organization/ripple-labs', 'https://www.crunchbase.com/organization/dapper-labs', 'https://www.crunchbase.com/organization/twitch', 'https://www.crunchbase.com/organization/upsie', 'https://www.crunchbase.com/organization/nydig']\n"
     ]
    }
   ],
   "source": [
    "print(all_links)"
   ]
  },
  {
   "cell_type": "code",
   "execution_count": 26,
   "metadata": {},
   "outputs": [],
   "source": [
    "df = pd.DataFrame({'Company Name': all_names,\n",
    "                   'URL': all_links,})"
   ]
  },
  {
   "cell_type": "code",
   "execution_count": 29,
   "metadata": {},
   "outputs": [],
   "source": [
    "df.to_csv(\"hello.csv\", index=False)"
   ]
  }
 ],
 "metadata": {
  "kernelspec": {
   "display_name": "Python 3",
   "language": "python",
   "name": "python3"
  },
  "language_info": {
   "codemirror_mode": {
    "name": "ipython",
    "version": 3
   },
   "file_extension": ".py",
   "mimetype": "text/x-python",
   "name": "python",
   "nbconvert_exporter": "python",
   "pygments_lexer": "ipython3",
   "version": "3.8.3"
  }
 },
 "nbformat": 4,
 "nbformat_minor": 4
}
