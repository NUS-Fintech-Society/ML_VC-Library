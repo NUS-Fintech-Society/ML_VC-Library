{
 "cells": [
  {
   "cell_type": "code",
   "execution_count": 9,
   "id": "unknown-diameter",
   "metadata": {},
   "outputs": [],
   "source": [
    "## install mlvc library\n",
    "# !pip install git+https://github.com/NUS-Fintech-Society/ML_VC-Library.git"
   ]
  },
  {
   "cell_type": "code",
   "execution_count": 8,
   "id": "coupled-albert",
   "metadata": {},
   "outputs": [],
   "source": [
    "import sys\n",
    "sys.path.append(\"../FinRL-Library\")"
   ]
  },
  {
   "cell_type": "code",
   "execution_count": 10,
   "id": "collectible-mapping",
   "metadata": {},
   "outputs": [
    {
     "data": {
      "text/plain": [
       "['/Users/huangming.low/Desktop/GitHub/ML_VC-Library/notebooks',\n",
       " '/Users/huangming.low/opt/anaconda3/envs/mlvc/lib/python37.zip',\n",
       " '/Users/huangming.low/opt/anaconda3/envs/mlvc/lib/python3.7',\n",
       " '/Users/huangming.low/opt/anaconda3/envs/mlvc/lib/python3.7/lib-dynload',\n",
       " '',\n",
       " '/Users/huangming.low/opt/anaconda3/envs/mlvc/lib/python3.7/site-packages',\n",
       " '/Users/huangming.low/opt/anaconda3/envs/mlvc/lib/python3.7/site-packages/IPython/extensions',\n",
       " '/Users/huangming.low/.ipython',\n",
       " '../FinRL-Library']"
      ]
     },
     "execution_count": 10,
     "metadata": {},
     "output_type": "execute_result"
    }
   ],
   "source": [
    "sys.path"
   ]
  },
  {
   "cell_type": "code",
   "execution_count": 7,
   "id": "extraordinary-watershed",
   "metadata": {},
   "outputs": [
    {
     "ename": "ModuleNotFoundError",
     "evalue": "No module named 'mlvc'",
     "output_type": "error",
     "traceback": [
      "\u001b[0;31m---------------------------------------------------------------------------\u001b[0m",
      "\u001b[0;31mModuleNotFoundError\u001b[0m                       Traceback (most recent call last)",
      "\u001b[0;32m<ipython-input-7-2db8e52cd940>\u001b[0m in \u001b[0;36m<module>\u001b[0;34m\u001b[0m\n\u001b[0;32m----> 1\u001b[0;31m \u001b[0;32mfrom\u001b[0m \u001b[0mmlvc\u001b[0m \u001b[0;32mimport\u001b[0m \u001b[0;34m*\u001b[0m\u001b[0;34m\u001b[0m\u001b[0;34m\u001b[0m\u001b[0m\n\u001b[0m",
      "\u001b[0;31mModuleNotFoundError\u001b[0m: No module named 'mlvc'"
     ]
    }
   ],
   "source": [
    "from mlvc import *"
   ]
  },
  {
   "cell_type": "code",
   "execution_count": 6,
   "id": "regular-skating",
   "metadata": {},
   "outputs": [
    {
     "ename": "ModuleNotFoundError",
     "evalue": "No module named 'mlvc'",
     "output_type": "error",
     "traceback": [
      "\u001b[0;31m---------------------------------------------------------------------------\u001b[0m",
      "\u001b[0;31mModuleNotFoundError\u001b[0m                       Traceback (most recent call last)",
      "\u001b[0;32m<ipython-input-6-33220b8c414f>\u001b[0m in \u001b[0;36m<module>\u001b[0;34m\u001b[0m\n\u001b[0;32m----> 1\u001b[0;31m \u001b[0;32mfrom\u001b[0m \u001b[0mmlvc\u001b[0m\u001b[0;34m.\u001b[0m\u001b[0mvc\u001b[0m\u001b[0;34m.\u001b[0m\u001b[0mconfig\u001b[0m \u001b[0;32mimport\u001b[0m \u001b[0mconfig\u001b[0m\u001b[0;34m\u001b[0m\u001b[0;34m\u001b[0m\u001b[0m\n\u001b[0m",
      "\u001b[0;31mModuleNotFoundError\u001b[0m: No module named 'mlvc'"
     ]
    }
   ],
   "source": [
    "from mlvc.vc.config import config"
   ]
  },
  {
   "cell_type": "code",
   "execution_count": 2,
   "id": "engaging-coupon",
   "metadata": {},
   "outputs": [
    {
     "ename": "ModuleNotFoundError",
     "evalue": "No module named 'vc'",
     "output_type": "error",
     "traceback": [
      "\u001b[0;31m---------------------------------------------------------------------------\u001b[0m",
      "\u001b[0;31mModuleNotFoundError\u001b[0m                       Traceback (most recent call last)",
      "\u001b[0;32m<ipython-input-2-a2e8c85d3574>\u001b[0m in \u001b[0;36m<module>\u001b[0;34m\u001b[0m\n\u001b[0;32m----> 1\u001b[0;31m \u001b[0;32mfrom\u001b[0m \u001b[0mvc\u001b[0m\u001b[0;34m.\u001b[0m\u001b[0mlogging\u001b[0m\u001b[0;34m.\u001b[0m\u001b[0mlogger\u001b[0m \u001b[0;32mimport\u001b[0m \u001b[0mLogger\u001b[0m\u001b[0;34m\u001b[0m\u001b[0;34m\u001b[0m\u001b[0m\n\u001b[0m",
      "\u001b[0;31mModuleNotFoundError\u001b[0m: No module named 'vc'"
     ]
    }
   ],
   "source": [
    "from vc.logging.logger import Logger"
   ]
  },
  {
   "cell_type": "code",
   "execution_count": 7,
   "id": "brave-storage",
   "metadata": {},
   "outputs": [],
   "source": [
    "res = 1\n",
    "for i in range(500):\n",
    "    res = res * 0.9\n",
    "\n",
    "# 0.9*0.9*0.9"
   ]
  },
  {
   "cell_type": "code",
   "execution_count": 8,
   "id": "chemical-batch",
   "metadata": {},
   "outputs": [
    {
     "data": {
      "text/plain": [
       "1.3220708194808237e-23"
      ]
     },
     "execution_count": 8,
     "metadata": {},
     "output_type": "execute_result"
    }
   ],
   "source": [
    "res"
   ]
  },
  {
   "cell_type": "code",
   "execution_count": null,
   "id": "scenic-teens",
   "metadata": {},
   "outputs": [],
   "source": [
    "Logger(config.LOGGING_LEVEL)\n",
    "logging.info(\"Logger successfully initialized, running main.py\")"
   ]
  }
 ],
 "metadata": {
  "kernelspec": {
   "display_name": "Python 3",
   "language": "python",
   "name": "python3"
  },
  "language_info": {
   "codemirror_mode": {
    "name": "ipython",
    "version": 3
   },
   "file_extension": ".py",
   "mimetype": "text/x-python",
   "name": "python",
   "nbconvert_exporter": "python",
   "pygments_lexer": "ipython3",
   "version": "3.7.9"
  }
 },
 "nbformat": 4,
 "nbformat_minor": 5
}
