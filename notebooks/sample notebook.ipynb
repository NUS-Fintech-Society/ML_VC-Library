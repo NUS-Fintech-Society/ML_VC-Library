{
 "cells": [
  {
   "cell_type": "code",
   "execution_count": 11,
   "id": "unknown-diameter",
   "metadata": {},
   "outputs": [
    {
     "name": "stdout",
     "output_type": "stream",
     "text": [
      "Collecting git+https://github.com/NUS-Fintech-Society/ML_VC-Library.git\n",
      "  Cloning https://github.com/NUS-Fintech-Society/ML_VC-Library.git to /private/var/folders/r7/1dv0q2sn4nlds469lf3q3_z00000gq/T/pip-req-build-nx3y9nga\n",
      "Requirement already satisfied: numpy in /Users/huangming.low/opt/anaconda3/envs/mlvc/lib/python3.7/site-packages (from mlvc==0.0.0) (1.20.0)\n",
      "Requirement already satisfied: pandas>=1.1.0 in /Users/huangming.low/opt/anaconda3/envs/mlvc/lib/python3.7/site-packages (from mlvc==0.0.0) (1.2.1)\n",
      "Requirement already satisfied: matplotlib in /Users/huangming.low/opt/anaconda3/envs/mlvc/lib/python3.7/site-packages (from mlvc==0.0.0) (3.3.4)\n",
      "Requirement already satisfied: plotly in /Users/huangming.low/opt/anaconda3/envs/mlvc/lib/python3.7/site-packages (from mlvc==0.0.0) (4.14.3)\n",
      "Requirement already satisfied: scikit-learn>=0.22.0 in /Users/huangming.low/opt/anaconda3/envs/mlvc/lib/python3.7/site-packages (from mlvc==0.0.0) (0.24.1)\n",
      "Requirement already satisfied: pytest in /Users/huangming.low/opt/anaconda3/envs/mlvc/lib/python3.7/site-packages (from mlvc==0.0.0) (6.2.2)\n",
      "Requirement already satisfied: pytz>=2017.3 in /Users/huangming.low/opt/anaconda3/envs/mlvc/lib/python3.7/site-packages (from pandas>=1.1.0->mlvc==0.0.0) (2021.1)\n",
      "Requirement already satisfied: python-dateutil>=2.7.3 in /Users/huangming.low/opt/anaconda3/envs/mlvc/lib/python3.7/site-packages (from pandas>=1.1.0->mlvc==0.0.0) (2.8.1)\n",
      "Requirement already satisfied: six>=1.5 in /Users/huangming.low/opt/anaconda3/envs/mlvc/lib/python3.7/site-packages (from python-dateutil>=2.7.3->pandas>=1.1.0->mlvc==0.0.0) (1.15.0)\n",
      "Requirement already satisfied: joblib>=0.11 in /Users/huangming.low/opt/anaconda3/envs/mlvc/lib/python3.7/site-packages (from scikit-learn>=0.22.0->mlvc==0.0.0) (1.0.0)\n",
      "Requirement already satisfied: scipy>=0.19.1 in /Users/huangming.low/opt/anaconda3/envs/mlvc/lib/python3.7/site-packages (from scikit-learn>=0.22.0->mlvc==0.0.0) (1.6.0)\n",
      "Requirement already satisfied: threadpoolctl>=2.0.0 in /Users/huangming.low/opt/anaconda3/envs/mlvc/lib/python3.7/site-packages (from scikit-learn>=0.22.0->mlvc==0.0.0) (2.1.0)\n",
      "Requirement already satisfied: kiwisolver>=1.0.1 in /Users/huangming.low/opt/anaconda3/envs/mlvc/lib/python3.7/site-packages (from matplotlib->mlvc==0.0.0) (1.3.1)\n",
      "Requirement already satisfied: pillow>=6.2.0 in /Users/huangming.low/opt/anaconda3/envs/mlvc/lib/python3.7/site-packages (from matplotlib->mlvc==0.0.0) (8.1.0)\n",
      "Requirement already satisfied: cycler>=0.10 in /Users/huangming.low/opt/anaconda3/envs/mlvc/lib/python3.7/site-packages (from matplotlib->mlvc==0.0.0) (0.10.0)\n",
      "Requirement already satisfied: pyparsing!=2.0.4,!=2.1.2,!=2.1.6,>=2.0.3 in /Users/huangming.low/opt/anaconda3/envs/mlvc/lib/python3.7/site-packages (from matplotlib->mlvc==0.0.0) (2.4.7)\n",
      "Requirement already satisfied: retrying>=1.3.3 in /Users/huangming.low/opt/anaconda3/envs/mlvc/lib/python3.7/site-packages (from plotly->mlvc==0.0.0) (1.3.3)\n",
      "Requirement already satisfied: iniconfig in /Users/huangming.low/opt/anaconda3/envs/mlvc/lib/python3.7/site-packages (from pytest->mlvc==0.0.0) (1.1.1)\n",
      "Requirement already satisfied: toml in /Users/huangming.low/opt/anaconda3/envs/mlvc/lib/python3.7/site-packages (from pytest->mlvc==0.0.0) (0.10.2)\n",
      "Requirement already satisfied: packaging in /Users/huangming.low/opt/anaconda3/envs/mlvc/lib/python3.7/site-packages (from pytest->mlvc==0.0.0) (20.9)\n",
      "Requirement already satisfied: importlib-metadata>=0.12 in /Users/huangming.low/opt/anaconda3/envs/mlvc/lib/python3.7/site-packages (from pytest->mlvc==0.0.0) (3.4.0)\n",
      "Requirement already satisfied: attrs>=19.2.0 in /Users/huangming.low/opt/anaconda3/envs/mlvc/lib/python3.7/site-packages (from pytest->mlvc==0.0.0) (20.3.0)\n",
      "Requirement already satisfied: pluggy<1.0.0a1,>=0.12 in /Users/huangming.low/opt/anaconda3/envs/mlvc/lib/python3.7/site-packages (from pytest->mlvc==0.0.0) (0.13.1)\n",
      "Requirement already satisfied: py>=1.8.2 in /Users/huangming.low/opt/anaconda3/envs/mlvc/lib/python3.7/site-packages (from pytest->mlvc==0.0.0) (1.10.0)\n",
      "Requirement already satisfied: zipp>=0.5 in /Users/huangming.low/opt/anaconda3/envs/mlvc/lib/python3.7/site-packages (from importlib-metadata>=0.12->pytest->mlvc==0.0.0) (3.4.0)\n",
      "Requirement already satisfied: typing-extensions>=3.6.4 in /Users/huangming.low/opt/anaconda3/envs/mlvc/lib/python3.7/site-packages (from importlib-metadata>=0.12->pytest->mlvc==0.0.0) (3.7.4.3)\n"
     ]
    }
   ],
   "source": [
    "## install mlvc library\n",
    "!pip install git+https://github.com/NUS-Fintech-Society/ML_VC-Library.git"
   ]
  }
 ],
 "metadata": {
  "kernelspec": {
   "display_name": "Python 3",
   "language": "python",
   "name": "python3"
  },
  "language_info": {
   "codemirror_mode": {
    "name": "ipython",
    "version": 3
   },
   "file_extension": ".py",
   "mimetype": "text/x-python",
   "name": "python",
   "nbconvert_exporter": "python",
   "pygments_lexer": "ipython3",
   "version": "3.7.9"
  }
 },
 "nbformat": 4,
 "nbformat_minor": 5
}
