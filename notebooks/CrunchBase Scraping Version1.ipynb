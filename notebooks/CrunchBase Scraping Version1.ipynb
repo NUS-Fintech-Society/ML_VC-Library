{
 "cells": [
  {
   "cell_type": "code",
   "execution_count": 2,
   "metadata": {},
   "outputs": [],
   "source": [
    "from selenium import webdriver\n",
    "import pandas as pd"
   ]
  },
  {
   "cell_type": "markdown",
   "metadata": {},
   "source": [
    "#### Data we need\n",
    "\n",
    "CrunchBase Ranking\t\n",
    "Company Name/Organisation Name\n",
    "Acquired by\t\n",
    "Location\t\n",
    "Number of Employees\t\n",
    "Industry\n",
    "IPO Status\t\n",
    "Founded Date\t\n",
    "Headquarters \n",
    "Regions\t\n",
    "Founders\t\n",
    "Operating Status\t\n",
    "Hub Tags\t\n",
    "Last Funding Type\t\n",
    "Company Type\t\n",
    "Investment Stage\t\n",
    "Number of Investors\t\n",
    "Number of Funding Rounds\t\n",
    "Total Funding Amount\t\n",
    "Number of Lead Investors\t\n",
    "Number of Acquisitions\t\n",
    "Number of Current Team Members (core team)\t\n",
    "Number of Board Members/Advisors\t\n",
    "Total Products Active\t\n",
    "Product Downloads in the Last 20 Days\t\n",
    "Active Tech Count\t\n",
    "Monthly Visits\tMonthly Visits Growth\t\n",
    "Number of Articles\t\n",
    "Number of Events\t\n",
    "\n",
    "#### for vc only\n",
    "Number of Funds\t\n",
    "Number of Investments\t\n",
    "Number of Diversity Investments\t\n",
    "Number of Exits\tRelated Hubs\t\n",
    "Investor Type\t\n",
    "Stock Symbol\t\n",
    "IPO Date\t\n",
    "Number of Sub \n",
    "Organisations\t\n",
    "Funding Rounds\t\n",
    "Funds Raised (for VC)\t\n",
    "Number of Lead Investments\n"
   ]
  },
  {
   "cell_type": "code",
   "execution_count": 70,
   "metadata": {},
   "outputs": [],
   "source": [
    "all_names = []\n",
    "all_acquired_by = []\n",
    "#all_abouts = []\n",
    "all_locations = []\n",
    "all_no_employees = []\n",
    "all_industries = []\n",
    "all_ipo_status = []\n",
    "all_founded_date = []\n",
    "all_hqs = []\n",
    "all_founders = []\n",
    "all_operating_status = []\n",
    "all_hub_tags = []\n",
    "all_last_funding_types = []\n",
    "all_company_types = []\n",
    "#all_investment_stages = []\n",
    "all_no_investors = []\n",
    "all_no_funding_rounds = []\n",
    "all_total_funding_amt = []\n",
    "all_no_lead_investors = []\n",
    "all_no_acquisitions = []\n",
    "all_no_current_team = []\n",
    "all_no_board_members = []\n",
    "all_total_products_active=[]\n",
    "all_product_downloads = []\n",
    "all_active_tech_count = []\n",
    "all_monthly_visits = []\n",
    "all_monthly_visit_growth=[]\n",
    "all_no_articles = []\n",
    "all_no_events=[]\n",
    "\n",
    "#note: to add arrays for the other fields specific to VCs"
   ]
  },
  {
   "cell_type": "code",
   "execution_count": 30,
   "metadata": {},
   "outputs": [],
   "source": [
    "driver = webdriver.Chrome('to fill up')\n",
    "driver.get('https://www.crunchbase.com/organization/reddit')\n",
    "\n",
    "comments = pd.DataFrame(columns = ['Name']) "
   ]
  },
  {
   "cell_type": "code",
   "execution_count": 277,
   "metadata": {},
   "outputs": [
    {
     "name": "stdout",
     "output_type": "stream",
     "text": [
      "Reddit\n"
     ]
    }
   ],
   "source": [
    "#Name\n",
    "name = driver.find_elements_by_xpath(\"/html/body/chrome/div/mat-sidenav-container/mat-sidenav-content/div/ng-component/entity-v2/page-layout/div/div/profile-header/div/header/div/div/div/div[2]/div[1]/h1/span\")\n",
    "\n",
    "for element in name:\n",
    "    print(element.get_property('innerText'))\n",
    "    all_names.append(element.get_property('innerText'))"
   ]
  },
  {
   "cell_type": "code",
   "execution_count": 126,
   "metadata": {},
   "outputs": [
    {
     "name": "stdout",
     "output_type": "stream",
     "text": [
      "Condé Nast\n"
     ]
    }
   ],
   "source": [
    "#Acquired by\n",
    "acquired_by = driver.find_elements_by_xpath(\"/html/body/chrome/div/mat-sidenav-container/mat-sidenav-content/div/ng-component/entity-v2/page-layout/div/div/div/page-centered-layout[2]/div/row-card/div/div[1]/profile-section/section-card/mat-card/div[2]/div/fields-card[1]/ul/li/field-formatter/identifier-formatter/a/div/div\")\n",
    "\n",
    "for element in acquired_by:\n",
    "    print(element.get_property('innerText'))\n",
    "    all_acquired_by.append(element.get_property('innerText'))"
   ]
  },
  {
   "cell_type": "code",
   "execution_count": 121,
   "metadata": {},
   "outputs": [
    {
     "name": "stdout",
     "output_type": "stream",
     "text": [
      "Reddit is an online platform, enabling its users to submit links, create content, and have discussions about the topics of their interest.\n"
     ]
    }
   ],
   "source": [
    "#About\n",
    "about = driver.find_elements_by_xpath(\"/html/body/chrome/div/mat-sidenav-container/mat-sidenav-content/div/ng-component/entity-v2/page-layout/div/div/div/page-centered-layout[2]/div/row-card/div/div[1]/profile-section/section-card/mat-card/div[2]/div/description-card/div/span\")\n",
    "\n",
    "for element in about:\n",
    "    print(element.get_property('innerText'))\n",
    "    #all_abouts.append(element.get_property('innerText'))"
   ]
  },
  {
   "cell_type": "code",
   "execution_count": 77,
   "metadata": {},
   "outputs": [],
   "source": [
    "#EXTRA: Extended history \n",
    "extended_bio = driver.find_elements_by_xpath(\"/html/body/chrome/div/mat-sidenav-container/mat-sidenav-content/div/ng-component/entity-v2/page-layout/div/div/div/page-centered-layout[3]/div/div/div[1]/row-card[1]/profile-section/section-card/mat-card/div[2]/div/description-card/div\")\n",
    "\n",
    "for element in extended_bio:\n",
    "    print(element.get_property('innerText'))"
   ]
  },
  {
   "cell_type": "code",
   "execution_count": 132,
   "metadata": {},
   "outputs": [
    {
     "name": "stdout",
     "output_type": "stream",
     "text": [
      "San Francisco, California, United States\n"
     ]
    }
   ],
   "source": [
    "#Number of location\n",
    "location = driver.find_elements_by_xpath(\"/html/body/chrome/div/mat-sidenav-container/mat-sidenav-content/div/ng-component/entity-v2/page-layout/div/div/div/page-centered-layout[2]/div/row-card/div/div[1]/profile-section/section-card/mat-card/div[2]/div/fields-card[2]/ul/li[1]/label-with-icon/span/field-formatter/identifier-multi-formatter/span\")\n",
    "\n",
    "for element in location:\n",
    "    print(element.get_property('innerText'))\n",
    "    all_locations.append(element.get_property('innerText'))"
   ]
  },
  {
   "cell_type": "code",
   "execution_count": 137,
   "metadata": {},
   "outputs": [
    {
     "name": "stdout",
     "output_type": "stream",
     "text": [
      "101-250\n"
     ]
    }
   ],
   "source": [
    "#Number of Employees\n",
    "about = driver.find_elements_by_xpath(\"/html/body/chrome/div/mat-sidenav-container/mat-sidenav-content/div/ng-component/entity-v2/page-layout/div/div/div/page-centered-layout[2]/div/row-card/div/div[1]/profile-section/section-card/mat-card/div[2]/div/fields-card[2]/ul/li[2]/label-with-icon/span/field-formatter/a\")\n",
    "\n",
    "for element in about:\n",
    "    print(element.get_property('innerText'))\n",
    "    all_no_employees.append(element.get_property('innerText'))"
   ]
  },
  {
   "cell_type": "code",
   "execution_count": 149,
   "metadata": {},
   "outputs": [
    {
     "name": "stdout",
     "output_type": "stream",
     "text": [
      "Content\n",
      "News\n",
      "Social Bookmarking\n",
      "Social Media\n",
      "Social Network\n"
     ]
    }
   ],
   "source": [
    "#Number of Industries\n",
    "industries = driver.find_elements_by_xpath(\"/html/body/chrome/div/mat-sidenav-container/mat-sidenav-content/div/ng-component/entity-v2/page-layout/div/div/div/page-centered-layout[3]/div/div/div[1]/row-card[1]/profile-section/section-card/mat-card/div[2]/div/fields-card[1]/ul/li[1]/field-formatter/identifier-multi-formatter/span/chips-container\")\n",
    "\n",
    "for element in industries:\n",
    "    print(element.get_property('innerText'))\n",
    "    all_industries.append(element.get_property('innerText'))"
   ]
  },
  {
   "cell_type": "code",
   "execution_count": 154,
   "metadata": {},
   "outputs": [
    {
     "name": "stdout",
     "output_type": "stream",
     "text": [
      "Private\n"
     ]
    }
   ],
   "source": [
    "#IPO Status\n",
    "ipo_status = driver.find_elements_by_xpath(\"/html/body/chrome/div/mat-sidenav-container/mat-sidenav-content/div/ng-component/entity-v2/page-layout/div/div/div/page-centered-layout[2]/div/row-card/div/div[1]/profile-section/section-card/mat-card/div[2]/div/fields-card[2]/ul/li[4]/label-with-icon/span/field-formatter/span\")\n",
    "\n",
    "for element in ipo_status:\n",
    "    print(element.get_property('innerText'))\n",
    "    all_ipo_status.append(element.get_property('innerText'))"
   ]
  },
  {
   "cell_type": "code",
   "execution_count": 159,
   "metadata": {},
   "outputs": [
    {
     "name": "stdout",
     "output_type": "stream",
     "text": [
      "2005\n"
     ]
    }
   ],
   "source": [
    "#Founded Date\n",
    "founded_date = driver.find_elements_by_xpath(\"/html/body/chrome/div/mat-sidenav-container/mat-sidenav-content/div/ng-component/entity-v2/page-layout/div/div/div/page-centered-layout[3]/div/div/div[1]/row-card[1]/profile-section/section-card/mat-card/div[2]/div/fields-card[1]/ul/li[3]/field-formatter/span\")\n",
    "\n",
    "for element in founded_date:\n",
    "    print(element.get_property('innerText'))\n",
    "    all_founded_date.append(element.get_property('innerText'))"
   ]
  },
  {
   "cell_type": "code",
   "execution_count": 163,
   "metadata": {},
   "outputs": [
    {
     "name": "stdout",
     "output_type": "stream",
     "text": [
      "San Francisco Bay Area, West Coast, Western US\n"
     ]
    }
   ],
   "source": [
    "#Headquarter Regions\n",
    "hqs = driver.find_elements_by_xpath(\"/html/body/chrome/div/mat-sidenav-container/mat-sidenav-content/div/ng-component/entity-v2/page-layout/div/div/div/page-centered-layout[3]/div/div/div[1]/row-card[1]/profile-section/section-card/mat-card/div[2]/div/fields-card[1]/ul/li[2]/field-formatter/identifier-multi-formatter/span\")\n",
    "\n",
    "for element in hqs:\n",
    "    print(element.get_property('innerText'))\n",
    "    all_hqs.append(element.get_property('innerText'))"
   ]
  },
  {
   "cell_type": "code",
   "execution_count": 167,
   "metadata": {},
   "outputs": [
    {
     "name": "stdout",
     "output_type": "stream",
     "text": [
      "Alexis Ohanian, Steve Huffman\n"
     ]
    }
   ],
   "source": [
    "#Founders\n",
    "founders = driver.find_elements_by_xpath(\"/html/body/chrome/div/mat-sidenav-container/mat-sidenav-content/div/ng-component/entity-v2/page-layout/div/div/div/page-centered-layout[3]/div/div/div[1]/row-card[1]/profile-section/section-card/mat-card/div[2]/div/fields-card[1]/ul/li[4]/field-formatter/identifier-multi-formatter/span\")\n",
    "\n",
    "for element in founders:\n",
    "    print(element.get_property('innerText'))\n",
    "    all_founders.append(element.get_property('innerText'))"
   ]
  },
  {
   "cell_type": "code",
   "execution_count": 170,
   "metadata": {},
   "outputs": [
    {
     "name": "stdout",
     "output_type": "stream",
     "text": [
      "Active\n"
     ]
    }
   ],
   "source": [
    "#Operating Status\n",
    "operating_status = driver.find_elements_by_xpath(\"/html/body/chrome/div/mat-sidenav-container/mat-sidenav-content/div/ng-component/entity-v2/page-layout/div/div/div/page-centered-layout[3]/div/div/div[1]/row-card[1]/profile-section/section-card/mat-card/div[2]/div/fields-card[1]/ul/li[5]/field-formatter/span\")\n",
    "\n",
    "for element in operating_status:\n",
    "    print(element.get_property('innerText'))\n",
    "    all_operating_status.append(element.get_property('innerText'))"
   ]
  },
  {
   "cell_type": "code",
   "execution_count": 173,
   "metadata": {},
   "outputs": [
    {
     "name": "stdout",
     "output_type": "stream",
     "text": [
      "Unicorn\n"
     ]
    }
   ],
   "source": [
    "#Hub Tags\n",
    "hub_tags = driver.find_elements_by_xpath(\"/html/body/chrome/div/mat-sidenav-container/mat-sidenav-content/div/ng-component/entity-v2/page-layout/div/div/div/page-centered-layout[3]/div/div/div[1]/row-card[1]/profile-section/section-card/mat-card/div[2]/div/fields-card[1]/ul/li[8]/field-formatter/enum-multi-formatter/span\")\n",
    "\n",
    "for element in hub_tags:\n",
    "    print(element.get_property('innerText'))\n",
    "\n",
    "all_hub_tags.append(element.get_property('innerText'))"
   ]
  },
  {
   "cell_type": "code",
   "execution_count": 176,
   "metadata": {},
   "outputs": [
    {
     "name": "stdout",
     "output_type": "stream",
     "text": [
      "Series D\n"
     ]
    }
   ],
   "source": [
    "#Last funding type\n",
    "last_fund_type = driver.find_elements_by_xpath(\"/html/body/chrome/div/mat-sidenav-container/mat-sidenav-content/div/ng-component/entity-v2/page-layout/div/div/div/page-centered-layout[3]/div/div/div[1]/row-card[1]/profile-section/section-card/mat-card/div[2]/div/fields-card[1]/ul/li[6]/field-formatter/a\")\n",
    "\n",
    "for element in last_fund_type:\n",
    "    print(element.get_property('innerText'))\n",
    "    all_last_funding_types.append(element.get_property('innerText'))"
   ]
  },
  {
   "cell_type": "code",
   "execution_count": 180,
   "metadata": {},
   "outputs": [
    {
     "name": "stdout",
     "output_type": "stream",
     "text": [
      "For Profit\n"
     ]
    }
   ],
   "source": [
    "#Company Type\n",
    "company_type = driver.find_elements_by_xpath(\"/html/body/chrome/div/mat-sidenav-container/mat-sidenav-content/div/ng-component/entity-v2/page-layout/div/div/div/page-centered-layout[3]/div/div/div[1]/row-card[1]/profile-section/section-card/mat-card/div[2]/div/fields-card[2]/ul/li/field-formatter/span\")\n",
    "\n",
    "for element in company_type:\n",
    "    print(element.get_property('innerText'))\n",
    "    all_company_types.append(element.get_property('innerText'))"
   ]
  },
  {
   "cell_type": "code",
   "execution_count": 281,
   "metadata": {},
   "outputs": [
    {
     "name": "stdout",
     "output_type": "stream",
     "text": [
      "24\n"
     ]
    }
   ],
   "source": [
    "#Number of Investors\n",
    "no_investors = driver.find_elements_by_xpath(\"/html/body/chrome/div/mat-sidenav-container/mat-sidenav-content/div/ng-component/entity-v2/page-layout/div/div/div/page-centered-layout[3]/div/div/div[1]/row-card[2]/profile-section/section-card/mat-card/div[2]/div/big-values-card/div[2]/field-formatter/a\")\n",
    "\n",
    "for element in no_investors :\n",
    "    print(element.get_property('innerText'))\n",
    "    all_no_investors.append(element.get_property('innerText'))"
   ]
  },
  {
   "cell_type": "code",
   "execution_count": 190,
   "metadata": {},
   "outputs": [
    {
     "name": "stdout",
     "output_type": "stream",
     "text": [
      "6\n"
     ]
    }
   ],
   "source": [
    "#Number of Funding rounds\n",
    "no_funding_rounds = driver.find_elements_by_xpath(\"/html/body/chrome/div/mat-sidenav-container/mat-sidenav-content/div/ng-component/entity-v2/page-layout/div/div/div/page-centered-layout[3]/div/div/div[1]/row-card[1]/profile-section/section-card/mat-card/div[2]/div/big-values-card/div[1]/field-formatter/a\")\n",
    "\n",
    "for element in no_funding_rounds:\n",
    "    print(element.get_property('innerText'))\n",
    "    all_no_funding_rounds.append(element.get_property('innerText'))"
   ]
  },
  {
   "cell_type": "code",
   "execution_count": 194,
   "metadata": {},
   "outputs": [
    {
     "name": "stdout",
     "output_type": "stream",
     "text": [
      "$550.1M\n"
     ]
    }
   ],
   "source": [
    "#Total Funding Amount\n",
    "total_funding_amt = driver.find_elements_by_xpath(\"/html/body/chrome/div/mat-sidenav-container/mat-sidenav-content/div/ng-component/entity-v2/page-layout/div/div/div/page-centered-layout[2]/div/row-card/div/div[1]/profile-section/section-card/mat-card/div[2]/div/anchored-values/div[3]/a/div/field-formatter\")\n",
    "\n",
    "for element in total_funding_amt:\n",
    "    print(element.get_property('innerText'))\n",
    "    all_total_funding_amt.append(element.get_property('innerText'))"
   ]
  },
  {
   "cell_type": "code",
   "execution_count": 198,
   "metadata": {},
   "outputs": [
    {
     "name": "stdout",
     "output_type": "stream",
     "text": [
      "2\n"
     ]
    }
   ],
   "source": [
    "#Number of Lead Investors\n",
    "no_lead_investors = driver.find_elements_by_xpath(\"/html/body/chrome/div/mat-sidenav-container/mat-sidenav-content/div/ng-component/entity-v2/page-layout/div/div/div/page-centered-layout[2]/div/row-card/div/div[1]/profile-section/section-card/mat-card/div[2]/div/anchored-values/div[4]/a/div/field-formatter\")\n",
    "\n",
    "for element in no_lead_investors:\n",
    "    print(element.get_property('innerText'))\n",
    "    all_no_lead_investors.append(element.get_property('innerText'))"
   ]
  },
  {
   "cell_type": "code",
   "execution_count": 202,
   "metadata": {},
   "outputs": [
    {
     "name": "stdout",
     "output_type": "stream",
     "text": [
      "3\n"
     ]
    }
   ],
   "source": [
    "#Number of Acquisitions\n",
    "no_acquisitions = driver.find_elements_by_xpath(\"/html/body/chrome/div/mat-sidenav-container/mat-sidenav-content/div/ng-component/entity-v2/page-layout/div/div/div/page-centered-layout[3]/div/div/div[1]/row-card[5]/profile-section/section-card/mat-card/div[2]/div/big-values-card/div/field-formatter/a\")\n",
    "\n",
    "for element in no_acquisitions:\n",
    "    print(element.get_property('innerText'))\n",
    "    all_no_acquisitions.append(element.get_property('innerText'))"
   ]
  },
  {
   "cell_type": "code",
   "execution_count": 240,
   "metadata": {},
   "outputs": [],
   "source": [
    "all_no_board_members=[]"
   ]
  },
  {
   "cell_type": "code",
   "execution_count": 241,
   "metadata": {},
   "outputs": [
    {
     "name": "stdout",
     "output_type": "stream",
     "text": [
      "3\n"
     ]
    }
   ],
   "source": [
    "#Number of Board Members Advisors\n",
    "no_board_members = driver.find_elements_by_xpath(\"/html/body/chrome/div/mat-sidenav-container/mat-sidenav-content/div/ng-component/entity-v2/page-layout/div/div/div/page-centered-layout[2]/div/row-card/div/div[1]/profile-section/section-card/mat-card/div[2]/div/anchored-values/div[2]/a/div/field-formatter/span\")\n",
    "for element in no_board_members:\n",
    "    print(element.get_property('innerText'))\n",
    "    all_no_board_members.append(element.get_property('innerText'))"
   ]
  },
  {
   "cell_type": "code",
   "execution_count": 237,
   "metadata": {},
   "outputs": [
    {
     "name": "stdout",
     "output_type": "stream",
     "text": [
      "62\n"
     ]
    }
   ],
   "source": [
    "#Total Products Active\n",
    "total_products_active = driver.find_elements_by_xpath(\"/html/body/chrome/div/mat-sidenav-container/mat-sidenav-content/div/ng-component/entity-v2/page-layout/div/div/div/page-centered-layout[2]/div/row-card/div/div[1]/profile-section/section-card/mat-card/div[2]/div/anchored-values/div[1]/a/div/field-formatter\")\n",
    "\n",
    "for element in total_products_active:\n",
    "    print(element.get_property('innerText'))\n",
    "    all_total_products_active.append(element.get_property('innerText'))"
   ]
  },
  {
   "cell_type": "code",
   "execution_count": 233,
   "metadata": {},
   "outputs": [
    {
     "name": "stdout",
     "output_type": "stream",
     "text": [
      "5,782,177\n"
     ]
    }
   ],
   "source": [
    "#Product Downloads in the last 30 days\n",
    "product_downloads = driver.find_elements_by_xpath(\"/html/body/chrome/div/mat-sidenav-container/mat-sidenav-content/div/ng-component/entity-v2/page-layout/div/div/div/page-centered-layout[2]/div/row-card/div/div[1]/profile-section/section-card/mat-card/div[2]/div/anchored-values/div[2]/a/div/field-formatter/span\")\n",
    "\n",
    "for element in product_downloads:\n",
    "    print(element.get_property('innerText'))\n",
    "    all_product_downloads.append(element.get_property('innerText'))"
   ]
  },
  {
   "cell_type": "code",
   "execution_count": 226,
   "metadata": {},
   "outputs": [
    {
     "name": "stdout",
     "output_type": "stream",
     "text": [
      "8\n"
     ]
    }
   ],
   "source": [
    "#Active Tech Count\n",
    "about = driver.find_elements_by_xpath(\"/html/body/chrome/div/mat-sidenav-container/mat-sidenav-content/div/ng-component/entity-v2/page-layout/div/div/div/page-centered-layout[2]/div/row-card/div/div[1]/profile-section/section-card/mat-card/div[2]/div/anchored-values/div[3]/a/div/field-formatter\")\n",
    "\n",
    "for element in about:\n",
    "    print(element.get_property('innerText'))\n",
    "    all_active_tech_count.append(element.get_property('innerText'))"
   ]
  },
  {
   "cell_type": "code",
   "execution_count": 247,
   "metadata": {},
   "outputs": [
    {
     "name": "stdout",
     "output_type": "stream",
     "text": [
      "2,173,092,975\n"
     ]
    }
   ],
   "source": [
    "#Monthly Visits\n",
    "monthly_visits = driver.find_elements_by_xpath(\"/html/body/chrome/div/mat-sidenav-container/mat-sidenav-content/div/ng-component/entity-v2/page-layout/div/div/div/page-centered-layout[2]/div/row-card/div/div[1]/profile-section/section-card/mat-card/div[2]/div/anchored-values/div[4]/a/div/field-formatter/span\")\n",
    "\n",
    "for element in monthly_visits:\n",
    "    print(element.get_property('innerText'))\n",
    "    all_monthly_visits.append(element.get_property('innerText'))"
   ]
  },
  {
   "cell_type": "code",
   "execution_count": 250,
   "metadata": {},
   "outputs": [
    {
     "name": "stdout",
     "output_type": "stream",
     "text": [
      "7.53%\n"
     ]
    }
   ],
   "source": [
    "#Monthly Visits Growth\n",
    "month_visit_growth = driver.find_elements_by_xpath(\"/html/body/chrome/div/mat-sidenav-container/mat-sidenav-content/div/ng-component/entity-v2/page-layout/div/div/div/page-centered-layout[2]/div/row-card/div/div[1]/profile-section/section-card/mat-card/div[2]/div/anchored-values/div[5]/a/div/field-formatter/span\")\n",
    "\n",
    "for element in month_visit_growth:\n",
    "    print(element.get_property('innerText'))\n",
    "    all_monthly_visit_growth.append(element.get_property('innerText'))"
   ]
  },
  {
   "cell_type": "code",
   "execution_count": 258,
   "metadata": {},
   "outputs": [
    {
     "name": "stdout",
     "output_type": "stream",
     "text": [
      "5,413\n"
     ]
    }
   ],
   "source": [
    "#Number of Articles\n",
    "no_articles = driver.find_elements_by_xpath(\"/html/body/chrome/div/mat-sidenav-container/mat-sidenav-content/div/ng-component/entity-v2/page-layout/div/div/div/page-centered-layout[2]/div/div/div[1]/row-card[1]/profile-section/section-card/mat-card/div[2]/div/big-values-card/div/field-formatter/a\")\n",
    "for element in no_articles:\n",
    "    print(element.get_property('innerText'))\n",
    "    all_no_articles.append(element.get_property('innerText'))"
   ]
  },
  {
   "cell_type": "code",
   "execution_count": 262,
   "metadata": {},
   "outputs": [
    {
     "name": "stdout",
     "output_type": "stream",
     "text": [
      "15\n"
     ]
    }
   ],
   "source": [
    "#Number of Events\n",
    "no_events = driver.find_elements_by_xpath(\"/html/body/chrome/div/mat-sidenav-container/mat-sidenav-content/div/ng-component/entity-v2/page-layout/div/div/div/page-centered-layout[2]/div/div/div[1]/row-card[2]/profile-section/section-card/mat-card/div[2]/div/big-values-card/div/field-formatter/a\")\n",
    "\n",
    "for element in no_events:\n",
    "    print(element.get_property('innerText'))\n",
    "    all_no_events.append(element.get_property('innerText'))"
   ]
  },
  {
   "cell_type": "code",
   "execution_count": 264,
   "metadata": {},
   "outputs": [],
   "source": [
    "lst = ['-']"
   ]
  },
  {
   "cell_type": "code",
   "execution_count": 283,
   "metadata": {},
   "outputs": [],
   "source": [
    "df = pd.DataFrame({'CrunchBase Ranking':lst,\n",
    "                   'Company Name/Organisation Name':all_names,\n",
    "                   'Acquired by': all_acquired_by,\n",
    "                   'Location': all_locations,\n",
    "                   'Number of Employees': all_no_employees,\n",
    "                   'Industry': all_industries,\n",
    "                   'IPO Status': all_ipo_status,\n",
    "                   'Founded Date': all_founded_date,\n",
    "                   'Headquarters': all_hqs,\n",
    "                   'Founders': all_founders,\n",
    "                   'Operating Status': all_operating_status,\n",
    "                   'Hub Tags': all_hub_tags,\n",
    "                   'Last Funding Type': all_last_funding_types,\n",
    "                   'Company Type': all_company_types, \n",
    "                   'Investment Stage': lst,\n",
    "                   'Number of Investors':all_no_investors,\n",
    "                   'Number Funding Rounds':all_no_funding_rounds,\n",
    "                   'Total Funding Amount':all_total_funding_amt,\n",
    "                   'Number of Lead Investors':all_no_lead_investors,\n",
    "                   'Number of Acquisitions': all_no_acquisitions,\n",
    "                   'Number of Current Team Members (core team)':all_no_current_team,\n",
    "                   'Number of Board Members/Advisors':all_no_board_members,\n",
    "                   'Total Products Active':all_total_products_active,\n",
    "                   'Product Downloads in the Last 30 Days':all_product_downloads,\n",
    "                   'Active Tech Count':all_active_tech_count,\n",
    "                   'Monthly Visits':all_monthly_visits,\n",
    "                   'Monthly Visits Growth':all_monthly_visit_growth,\n",
    "                   'Number of Articles':all_no_articles,\n",
    "                   'Number of Events':all_no_events,\n",
    "                   'Number of Funds':lst,\n",
    "                   'Number of Investments':lst,\n",
    "                   'Number of Diversity Investments':lst,\n",
    "                   'Number of Exits':lst,\n",
    "                   'Related Hubs':lst,\n",
    "                   'Investor Type':lst,\n",
    "                   'Stock Symbol':lst,\n",
    "                   'IPO Date': lst,\n",
    "                   'Number of Sub':lst,\n",
    "                   'Organisations':lst,\n",
    "                   'Funding Rounds':lst,\n",
    "                   'Funds Raised (for VC)':lst,\n",
    "                    'Number of Lead Investments':lst\n",
    "                  })"
   ]
  },
  {
   "cell_type": "code",
   "execution_count": 284,
   "metadata": {},
   "outputs": [
    {
     "data": {
      "text/html": [
       "<div>\n",
       "<style scoped>\n",
       "    .dataframe tbody tr th:only-of-type {\n",
       "        vertical-align: middle;\n",
       "    }\n",
       "\n",
       "    .dataframe tbody tr th {\n",
       "        vertical-align: top;\n",
       "    }\n",
       "\n",
       "    .dataframe thead th {\n",
       "        text-align: right;\n",
       "    }\n",
       "</style>\n",
       "<table border=\"1\" class=\"dataframe\">\n",
       "  <thead>\n",
       "    <tr style=\"text-align: right;\">\n",
       "      <th></th>\n",
       "      <th>CrunchBase Ranking</th>\n",
       "      <th>Company Name/Organisation Name</th>\n",
       "      <th>Acquired by</th>\n",
       "      <th>Location</th>\n",
       "      <th>Number of Employees</th>\n",
       "      <th>Industry</th>\n",
       "      <th>IPO Status</th>\n",
       "      <th>Founded Date</th>\n",
       "      <th>Headquarters</th>\n",
       "      <th>Founders</th>\n",
       "      <th>...</th>\n",
       "      <th>Number of Exits</th>\n",
       "      <th>Related Hubs</th>\n",
       "      <th>Investor Type</th>\n",
       "      <th>Stock Symbol</th>\n",
       "      <th>IPO Date</th>\n",
       "      <th>Number of Sub</th>\n",
       "      <th>Organisations</th>\n",
       "      <th>Funding Rounds</th>\n",
       "      <th>Funds Raised (for VC)</th>\n",
       "      <th>Number of Lead Investments</th>\n",
       "    </tr>\n",
       "  </thead>\n",
       "  <tbody>\n",
       "    <tr>\n",
       "      <th>0</th>\n",
       "      <td>-</td>\n",
       "      <td>Reddit</td>\n",
       "      <td>Condé Nast</td>\n",
       "      <td>San Francisco, California, United States</td>\n",
       "      <td>101-250</td>\n",
       "      <td>Content\\nNews\\nSocial Bookmarking\\nSocial Medi...</td>\n",
       "      <td>Private</td>\n",
       "      <td>2005</td>\n",
       "      <td>San Francisco Bay Area, West Coast, Western US</td>\n",
       "      <td>Alexis Ohanian, Steve Huffman</td>\n",
       "      <td>...</td>\n",
       "      <td>-</td>\n",
       "      <td>-</td>\n",
       "      <td>-</td>\n",
       "      <td>-</td>\n",
       "      <td>-</td>\n",
       "      <td>-</td>\n",
       "      <td>-</td>\n",
       "      <td>-</td>\n",
       "      <td>-</td>\n",
       "      <td>-</td>\n",
       "    </tr>\n",
       "  </tbody>\n",
       "</table>\n",
       "<p>1 rows × 42 columns</p>\n",
       "</div>"
      ],
      "text/plain": [
       "  CrunchBase Ranking Company Name/Organisation Name Acquired by  \\\n",
       "0                  -                         Reddit  Condé Nast   \n",
       "\n",
       "                                   Location Number of Employees  \\\n",
       "0  San Francisco, California, United States             101-250   \n",
       "\n",
       "                                            Industry IPO Status Founded Date  \\\n",
       "0  Content\\nNews\\nSocial Bookmarking\\nSocial Medi...    Private         2005   \n",
       "\n",
       "                                     Headquarters  \\\n",
       "0  San Francisco Bay Area, West Coast, Western US   \n",
       "\n",
       "                        Founders  ... Number of Exits Related Hubs  \\\n",
       "0  Alexis Ohanian, Steve Huffman  ...               -            -   \n",
       "\n",
       "  Investor Type Stock Symbol IPO Date Number of Sub Organisations  \\\n",
       "0             -            -        -             -             -   \n",
       "\n",
       "  Funding Rounds Funds Raised (for VC) Number of Lead Investments  \n",
       "0              -                     -                          -  \n",
       "\n",
       "[1 rows x 42 columns]"
      ]
     },
     "execution_count": 284,
     "metadata": {},
     "output_type": "execute_result"
    }
   ],
   "source": [
    "df"
   ]
  },
  {
   "cell_type": "markdown",
   "metadata": {},
   "source": [
    "To do:\n",
    "1. Disucss about 'about' and 'extended about' \n",
    "2. To find out if the xpath changes? buggy when i came back to the code after a while (aka the output is different \n",
    "3. Include error for fields specific to VCs/startup - maybe empty input? or empty string?\n",
    "4. Try while loop to scrap more than one company at the time "
   ]
  },
  {
   "cell_type": "code",
   "execution_count": null,
   "metadata": {},
   "outputs": [],
   "source": []
  }
 ],
 "metadata": {
  "kernelspec": {
   "display_name": "Python 3",
   "language": "python",
   "name": "python3"
  },
  "language_info": {
   "codemirror_mode": {
    "name": "ipython",
    "version": 3
   },
   "file_extension": ".py",
   "mimetype": "text/x-python",
   "name": "python",
   "nbconvert_exporter": "python",
   "pygments_lexer": "ipython3",
   "version": "3.8.3"
  }
 },
 "nbformat": 4,
 "nbformat_minor": 4
}
